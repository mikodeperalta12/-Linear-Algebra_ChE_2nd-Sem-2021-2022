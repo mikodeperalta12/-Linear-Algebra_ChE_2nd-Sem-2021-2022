{
  "nbformat": 4,
  "nbformat_minor": 0,
  "metadata": {
    "colab": {
      "name": "Copy of Assignment 3.ipynb",
      "provenance": [],
      "collapsed_sections": [],
      "toc_visible": true,
      "include_colab_link": true
    },
    "kernelspec": {
      "name": "python3",
      "display_name": "Python 3"
    },
    "language_info": {
      "name": "python"
    }
  },
  "cells": [
    {
      "cell_type": "markdown",
      "metadata": {
        "id": "view-in-github",
        "colab_type": "text"
      },
      "source": [
        "<a href=\"https://colab.research.google.com/github/mikodeperalta12/-Linear-Algebra_ChE_2nd-Sem-2021-2022/blob/main/Assignment_3.ipynb\" target=\"_parent\"><img src=\"https://colab.research.google.com/assets/colab-badge.svg\" alt=\"Open In Colab\"/></a>"
      ]
    },
    {
      "cell_type": "markdown",
      "source": [
        "#Linear Algebra for ChE\n",
        "##Assignment 3: Matrices"
      ],
      "metadata": {
        "id": "klp67CfIYg8J"
      }
    },
    {
      "cell_type": "markdown",
      "source": [
        "\n",
        "\n",
        "We'll try to look into further depth keeping in mind the basic understanding of Python.\n",
        "\n"
      ],
      "metadata": {
        "id": "FK7EVKnVTCdM"
      }
    },
    {
      "cell_type": "markdown",
      "source": [
        "#Objectives\n",
        "At the end of this activity you will be able to:\n",
        "1. Perform basic matrix computations. \n",
        "2. Understand matrices and how they relate to linear equations. \n",
        "3. Interpret and utilize matrix equations and operations."
      ],
      "metadata": {
        "id": "MuIUtu7gY46n"
      }
    },
    {
      "cell_type": "markdown",
      "source": [
        "# Discussion"
      ],
      "metadata": {
        "id": "yLszoNGfUVv0"
      }
    },
    {
      "cell_type": "code",
      "source": [
        "import numpy as np\n",
        "import matplotlib.pyplot as plt\n",
        "import scipy.linalg as la\n",
        "%matplotlib inline"
      ],
      "metadata": {
        "id": "JTr1SYF4UwFj"
      },
      "execution_count": 248,
      "outputs": []
    },
    {
      "cell_type": "code",
      "source": [
        "## Since we'll keep on describing matrices. Let's make a function.\n",
        "def describe_mat(matrix):\n",
        "    print(f'Matrix:\\n{matrix}\\n\\nShape:\\t{matrix.shape}\\nRank:\\t{matrix.ndim}\\n')"
      ],
      "metadata": {
        "id": "EPVr4rPq2drI"
      },
      "execution_count": 192,
      "outputs": []
    },
    {
      "cell_type": "code",
      "source": [
        "## Declaring a 4 x 5 matrix\n",
        "L = np.array([[[[\n",
        "    [96, 68, 33, 39, 51],\n",
        "    [60, 19 ,30, 45, 86],\n",
        "    [62, 57, 68, 93, 31],\n",
        "    [57, 23, 19, 58, 23]\n",
        "]]]])\n",
        "describe_mat(L)"
      ],
      "metadata": {
        "colab": {
          "base_uri": "https://localhost:8080/"
        },
        "id": "tvtBsfRH3RXG",
        "outputId": "a62f33ee-40ca-4831-9fa6-5f00cc88f20e"
      },
      "execution_count": 193,
      "outputs": [
        {
          "output_type": "stream",
          "name": "stdout",
          "text": [
            "Matrix:\n",
            "[[[[[96 68 33 39 51]\n",
            "    [60 19 30 45 86]\n",
            "    [62 57 68 93 31]\n",
            "    [57 23 19 58 23]]]]]\n",
            "\n",
            "Shape:\t(1, 1, 1, 4, 5)\n",
            "Rank:\t5\n",
            "\n"
          ]
        }
      ]
    },
    {
      "cell_type": "code",
      "source": [
        "N = np.array([[[\n",
        "    [31, 32, 33, 34, 35],\n",
        "    [41, 42, 53, 53, 13],\n",
        "    [71, 24, 65, 73, 31],\n",
        "    [31, 89, 13, 54, 14]\n",
        "]]])\n",
        "describe_mat(N)"
      ],
      "metadata": {
        "colab": {
          "base_uri": "https://localhost:8080/"
        },
        "id": "5I_DSODj8l3f",
        "outputId": "ae38cf0a-8a14-4d22-cff9-c87b1d1fcd69"
      },
      "execution_count": 194,
      "outputs": [
        {
          "output_type": "stream",
          "name": "stdout",
          "text": [
            "Matrix:\n",
            "[[[[31 32 33 34 35]\n",
            "   [41 42 53 53 13]\n",
            "   [71 24 65 73 31]\n",
            "   [31 89 13 54 14]]]]\n",
            "\n",
            "Shape:\t(1, 1, 4, 5)\n",
            "Rank:\t4\n",
            "\n"
          ]
        }
      ]
    },
    {
      "cell_type": "code",
      "source": [
        "E = np.array([[\n",
        "    [81, 92, 73, 44, 35],\n",
        "    [11, 22, 13, 63, 73],\n",
        "    [71, 54, 45, 23, 41],\n",
        "    [71, 89, 13, 84, 34]\n",
        "]])\n",
        "describe_mat(E)"
      ],
      "metadata": {
        "colab": {
          "base_uri": "https://localhost:8080/"
        },
        "id": "t4tpxE-P3azZ",
        "outputId": "3cf3a0f8-a466-4c8a-e427-8b4d1a34a9da"
      },
      "execution_count": 195,
      "outputs": [
        {
          "output_type": "stream",
          "name": "stdout",
          "text": [
            "Matrix:\n",
            "[[[81 92 73 44 35]\n",
            "  [11 22 13 63 73]\n",
            "  [71 54 45 23 41]\n",
            "  [71 89 13 84 34]]]\n",
            "\n",
            "Shape:\t(1, 4, 5)\n",
            "Rank:\t3\n",
            "\n"
          ]
        }
      ]
    },
    {
      "cell_type": "code",
      "source": [
        "A = np.array([\n",
        "    [32, 34, 37, 32, 36],\n",
        "    [41, 42, 57, 52, 13],\n",
        "    [71, 24, 65, 73, 31],\n",
        "    [31, 89, 13, 54, 14]\n",
        "])\n",
        "describe_mat(A)"
      ],
      "metadata": {
        "colab": {
          "base_uri": "https://localhost:8080/"
        },
        "id": "q4lykBho8rBU",
        "outputId": "92cc5fb3-2745-461c-c498-fba8e2bea813"
      },
      "execution_count": 196,
      "outputs": [
        {
          "output_type": "stream",
          "name": "stdout",
          "text": [
            "Matrix:\n",
            "[[32 34 37 32 36]\n",
            " [41 42 57 52 13]\n",
            " [71 24 65 73 31]\n",
            " [31 89 13 54 14]]\n",
            "\n",
            "Shape:\t(4, 5)\n",
            "Rank:\t2\n",
            "\n"
          ]
        }
      ]
    },
    {
      "cell_type": "code",
      "source": [
        "R = np.array([\n",
        "    [31, 32, 33, 34, 35],\n",
        "    [43, 42, 50, 57, 13],\n",
        "    [72, 24, 65, 73, 39],\n",
        "    [51, 89, 13, 74, 54]\n",
        "  ]) \n",
        "describe_mat(R)\n"
      ],
      "metadata": {
        "colab": {
          "base_uri": "https://localhost:8080/"
        },
        "id": "SuIQLQAx8uoL",
        "outputId": "9f59a5fb-35da-414e-cd8f-61fdbd4c2f47"
      },
      "execution_count": 197,
      "outputs": [
        {
          "output_type": "stream",
          "name": "stdout",
          "text": [
            "Matrix:\n",
            "[[31 32 33 34 35]\n",
            " [43 42 50 57 13]\n",
            " [72 24 65 73 39]\n",
            " [51 89 13 74 54]]\n",
            "\n",
            "Shape:\t(4, 5)\n",
            "Rank:\t2\n",
            "\n"
          ]
        }
      ]
    },
    {
      "cell_type": "code",
      "source": [
        "##  Decalaring a Row Matrix\n",
        "row_mat_1D = np.array([\n",
        "    [3, 2, 1, -5]\n",
        "])  ## This is a 1-D matrix with a shape of (3,), which is not considered a row of matrix\n",
        "row_mat_2D = np.array([\n",
        "    [2, 4, 6, -1]\n",
        "])   ## This is a 2-D matrix with a shape of (1,3)\n",
        "describe_mat(row_mat_1D)\n",
        "describe_mat(row_mat_2D)"
      ],
      "metadata": {
        "colab": {
          "base_uri": "https://localhost:8080/"
        },
        "id": "kuKc9ivqY27A",
        "outputId": "14697060-46a3-46d5-c8b6-459d412f0bf5"
      },
      "execution_count": 198,
      "outputs": [
        {
          "output_type": "stream",
          "name": "stdout",
          "text": [
            "Matrix:\n",
            "[[ 3  2  1 -5]]\n",
            "\n",
            "Shape:\t(1, 4)\n",
            "Rank:\t2\n",
            "\n",
            "Matrix:\n",
            "[[ 2  4  6 -1]]\n",
            "\n",
            "Shape:\t(1, 4)\n",
            "Rank:\t2\n",
            "\n"
          ]
        }
      ]
    },
    {
      "cell_type": "code",
      "source": [
        "## Declaring a column matrix\n",
        "\n",
        "colmat = np.array([\n",
        "    [3],\n",
        "    [5],\n",
        "    [7]\n",
        "]) ## This is a 2-D Matrix with a shape of (3, 1)\n",
        "describe_mat(colmat)"
      ],
      "metadata": {
        "colab": {
          "base_uri": "https://localhost:8080/"
        },
        "id": "X5wiTYqibPFo",
        "outputId": "d363d5d5-d5da-406b-f143-e3f99bce9816"
      },
      "execution_count": 199,
      "outputs": [
        {
          "output_type": "stream",
          "name": "stdout",
          "text": [
            "Matrix:\n",
            "[[3]\n",
            " [5]\n",
            " [7]]\n",
            "\n",
            "Shape:\t(3, 1)\n",
            "Rank:\t2\n",
            "\n"
          ]
        }
      ]
    },
    {
      "cell_type": "markdown",
      "source": [
        "###Categorizing Matrices\n",
        "There are several ways of classifying matrices. Once could be according to their shape and another is according to their element values. We'll try to go through them."
      ],
      "metadata": {
        "id": "FfWi1edllr5F"
      }
    },
    {
      "cell_type": "markdown",
      "source": [
        "#### Square Matrix\n",
        "Square matrices are matrices that have the same row and column sizes. We could say a matrix is square if . We can tweak our matrix descriptor function to determine square matrices."
      ],
      "metadata": {
        "id": "cFZAQ_WX2Obf"
      }
    },
    {
      "cell_type": "code",
      "source": [
        "def describe_mat(matrix):\n",
        "    is_square = True if matrix.shape[0] == matrix.shape[1] else False                                                     \n",
        "    print(f'Matrix:\\n{matrix}\\n\\nShape:\\t{matrix.shape}\\nRank:\\t{matrix.ndim}\\nIs Square: {is_square}\\n')"
      ],
      "metadata": {
        "id": "I7AOWlnpZI2V"
      },
      "execution_count": 200,
      "outputs": []
    },
    {
      "cell_type": "code",
      "source": [
        "square_mat = np.array([\n",
        "  [5, 3, 2, 1],\n",
        "  [3, 2, 4, 9],\n",
        "  [8, 4, 7, 5],\n",
        "  [4, 8, 9, 1]\n",
        "])\n",
        "not_square_mat = np.array([\n",
        "  [3, 4, 1, 4],\n",
        "  [9, 6, 1, 3]\n",
        "])\n",
        "describe_mat (square_mat)\n",
        "describe_mat (not_square_mat)"
      ],
      "metadata": {
        "colab": {
          "base_uri": "https://localhost:8080/"
        },
        "id": "FfWT2_jQb13P",
        "outputId": "71ab6de2-1541-4e40-c2d8-df6138aeb9e4"
      },
      "execution_count": 201,
      "outputs": [
        {
          "output_type": "stream",
          "name": "stdout",
          "text": [
            "Matrix:\n",
            "[[5 3 2 1]\n",
            " [3 2 4 9]\n",
            " [8 4 7 5]\n",
            " [4 8 9 1]]\n",
            "\n",
            "Shape:\t(4, 4)\n",
            "Rank:\t2\n",
            "Is Square: True\n",
            "\n",
            "Matrix:\n",
            "[[3 4 1 4]\n",
            " [9 6 1 3]]\n",
            "\n",
            "Shape:\t(2, 4)\n",
            "Rank:\t2\n",
            "Is Square: False\n",
            "\n"
          ]
        }
      ]
    },
    {
      "cell_type": "markdown",
      "source": [
        "#### Null Matrix\n",
        "A Null Matrix is a matrix that has no elements. It is always a subspace of any vector or matrix."
      ],
      "metadata": {
        "id": "Q3z4LJLx2Ysl"
      }
    },
    {
      "cell_type": "code",
      "source": [
        "def describe_mat(matrix):\n",
        "  if matrix.size > 0:\n",
        "    is_square - True if matrix.shape[0] -- matrix.shape[1] else False\n",
        "    print(f'Matrix:\\n{matrix}\\n\\nShape:\\t{matrix.shape}\\nRank:\\t{matrix.ndim}\\nIs Square: {is_square}\\n')\n",
        "  else:\n",
        "    print('Matrix is Null.')"
      ],
      "metadata": {
        "id": "2flv6cS6aQOH"
      },
      "execution_count": 202,
      "outputs": []
    },
    {
      "cell_type": "code",
      "source": [
        "null_mat = np.array([])\n",
        "describe_mat(null_mat)"
      ],
      "metadata": {
        "colab": {
          "base_uri": "https://localhost:8080/"
        },
        "id": "uSRcyua8fEHa",
        "outputId": "65bec54d-dcc4-4ebd-c686-91c8cbc2b960"
      },
      "execution_count": 203,
      "outputs": [
        {
          "output_type": "stream",
          "name": "stdout",
          "text": [
            "Matrix is Null.\n"
          ]
        }
      ]
    },
    {
      "cell_type": "markdown",
      "source": [
        "#### Zero Matrix"
      ],
      "metadata": {
        "id": "70KIzO3-2eF5"
      }
    },
    {
      "cell_type": "code",
      "source": [
        "zero_mat_row = np.zeros ((1,2))\n",
        "zero_mat_sqr = np.zeros ((2,2))\n",
        "zero_mat_rct = np.zeros ((3,2))\n",
        "\n",
        "print(f'Zero Row Matrix: \\n{zero_mat_row}')\n",
        "print(f'Zero Square Matrix: \\n{zero_mat_sqr}')\n",
        "print(f'Zero Rectangular Matrix: \\n{zero_mat_rct}')"
      ],
      "metadata": {
        "colab": {
          "base_uri": "https://localhost:8080/"
        },
        "id": "FYZvO0i7bOVz",
        "outputId": "2f044d34-8ba4-408d-d42c-6b92f58f352d"
      },
      "execution_count": 204,
      "outputs": [
        {
          "output_type": "stream",
          "name": "stdout",
          "text": [
            "Zero Row Matrix: \n",
            "[[0. 0.]]\n",
            "Zero Square Matrix: \n",
            "[[0. 0.]\n",
            " [0. 0.]]\n",
            "Zero Rectangular Matrix: \n",
            "[[0. 0.]\n",
            " [0. 0.]\n",
            " [0. 0.]]\n"
          ]
        }
      ]
    },
    {
      "cell_type": "markdown",
      "source": [
        "####Ones Matrix\n"
      ],
      "metadata": {
        "id": "2fStHwh22jqe"
      }
    },
    {
      "cell_type": "code",
      "source": [
        "## Ones Matrix -  to get the identity\n",
        "\n",
        "ones_mat_row = np.ones ((1,2))\n",
        "ones_mat_sqr = np.ones ((2,2))\n",
        "ones_mat_rct = np.ones ((3,2))\n",
        "\n",
        "print(f'Ones Row Matrix: \\n{ones_mat_row}')\n",
        "print(f'Ones Square Matrix: \\n{ones_mat_sqr}')\n",
        "print(f'Ones Rectangular Matrix: \\n{ones_mat_rct}')"
      ],
      "metadata": {
        "colab": {
          "base_uri": "https://localhost:8080/"
        },
        "id": "P7eAkeiJUU1L",
        "outputId": "aeeffee8-9078-45c7-fcba-bd4cad80e554"
      },
      "execution_count": 205,
      "outputs": [
        {
          "output_type": "stream",
          "name": "stdout",
          "text": [
            "Ones Row Matrix: \n",
            "[[1. 1.]]\n",
            "Ones Square Matrix: \n",
            "[[1. 1.]\n",
            " [1. 1.]]\n",
            "Ones Rectangular Matrix: \n",
            "[[1. 1.]\n",
            " [1. 1.]\n",
            " [1. 1.]]\n"
          ]
        }
      ]
    },
    {
      "cell_type": "markdown",
      "source": [
        "#### Diagonal Matrix\n"
      ],
      "metadata": {
        "id": "zjPyFAbV2oHV"
      }
    },
    {
      "cell_type": "code",
      "source": [
        "## Diagonal Matrix\n",
        "np.array([\n",
        "   [2, 0, 0],\n",
        "   [0, 2, 0],\n",
        "   [0, 0, 2]\n",
        "])\n",
        "# a[1,1], a[2,2], a[3,3], ... a[n-1, n-1]"
      ],
      "metadata": {
        "colab": {
          "base_uri": "https://localhost:8080/"
        },
        "id": "lgCSaMB6U74U",
        "outputId": "c335ce75-0a5e-433f-8be9-1db8453afaba"
      },
      "execution_count": 206,
      "outputs": [
        {
          "output_type": "execute_result",
          "data": {
            "text/plain": [
              "array([[2, 0, 0],\n",
              "       [0, 2, 0],\n",
              "       [0, 0, 2]])"
            ]
          },
          "metadata": {},
          "execution_count": 206
        }
      ]
    },
    {
      "cell_type": "code",
      "source": [
        "#Other way to declare a diagonal matrix\n",
        "d = np.diag([1, 9, 9, 7])\n",
        "d"
      ],
      "metadata": {
        "colab": {
          "base_uri": "https://localhost:8080/"
        },
        "id": "QXEwGPrlhPRg",
        "outputId": "49cf78bb-845c-44e0-9d5d-e4645f4032b2"
      },
      "execution_count": 207,
      "outputs": [
        {
          "output_type": "execute_result",
          "data": {
            "text/plain": [
              "array([[1, 0, 0, 0],\n",
              "       [0, 9, 0, 0],\n",
              "       [0, 0, 9, 0],\n",
              "       [0, 0, 0, 7]])"
            ]
          },
          "metadata": {},
          "execution_count": 207
        }
      ]
    },
    {
      "cell_type": "markdown",
      "source": [
        "####Identity Matrix"
      ],
      "metadata": {
        "id": "x8LAm-KDQGTB"
      }
    },
    {
      "cell_type": "code",
      "source": [
        "#Identity Matrix\n",
        "np.eye(3)"
      ],
      "metadata": {
        "colab": {
          "base_uri": "https://localhost:8080/"
        },
        "id": "xODu79OzhaDW",
        "outputId": "15592a64-eacc-4d39-da65-fb1f3481933b"
      },
      "execution_count": 208,
      "outputs": [
        {
          "output_type": "execute_result",
          "data": {
            "text/plain": [
              "array([[1., 0., 0.],\n",
              "       [0., 1., 0.],\n",
              "       [0., 0., 1.]])"
            ]
          },
          "metadata": {},
          "execution_count": 208
        }
      ]
    },
    {
      "cell_type": "code",
      "source": [
        "#Other way to Declare an Identity Matrix\n",
        "np.identity(7)"
      ],
      "metadata": {
        "colab": {
          "base_uri": "https://localhost:8080/"
        },
        "id": "igfpPLnjhd6s",
        "outputId": "bd7569f3-e7ad-4dbf-c24d-4a8223b683b7"
      },
      "execution_count": 209,
      "outputs": [
        {
          "output_type": "execute_result",
          "data": {
            "text/plain": [
              "array([[1., 0., 0., 0., 0., 0., 0.],\n",
              "       [0., 1., 0., 0., 0., 0., 0.],\n",
              "       [0., 0., 1., 0., 0., 0., 0.],\n",
              "       [0., 0., 0., 1., 0., 0., 0.],\n",
              "       [0., 0., 0., 0., 1., 0., 0.],\n",
              "       [0., 0., 0., 0., 0., 1., 0.],\n",
              "       [0., 0., 0., 0., 0., 0., 1.]])"
            ]
          },
          "metadata": {},
          "execution_count": 209
        }
      ]
    },
    {
      "cell_type": "markdown",
      "source": [
        "####Upper Triangular Matrix"
      ],
      "metadata": {
        "id": "EDkLRUn23HMH"
      }
    },
    {
      "cell_type": "code",
      "source": [
        "#Upper Triangular Matrix\n",
        "np.array([\n",
        "  [9, 0, 0, 0],\n",
        "  [1, 3, 0, 0],\n",
        "  [5, 3, 1, 0],\n",
        "  [1, 3, 6, 8]\n",
        "])"
      ],
      "metadata": {
        "colab": {
          "base_uri": "https://localhost:8080/"
        },
        "id": "Qi3nFq78hhS6",
        "outputId": "3e2c9b01-ccd9-41ef-ff57-dae31216a1d5"
      },
      "execution_count": 210,
      "outputs": [
        {
          "output_type": "execute_result",
          "data": {
            "text/plain": [
              "array([[9, 0, 0, 0],\n",
              "       [1, 3, 0, 0],\n",
              "       [5, 3, 1, 0],\n",
              "       [1, 3, 6, 8]])"
            ]
          },
          "metadata": {},
          "execution_count": 210
        }
      ]
    },
    {
      "cell_type": "code",
      "source": [
        "#Other Way to Declare Upper Triangular Matrix \n",
        "M = np.array([\n",
        "    [32, -65, 15, -69, 20],\n",
        "    [32, -65, 15, -69, 20],\n",
        "    [32, -65, 15, -69, 20],\n",
        "    [32, -65, 15, -69, 20],\n",
        "    [32, -65, 15, -69, 20]\n",
        "])\n",
        "np. triu(E)\n"
      ],
      "metadata": {
        "colab": {
          "base_uri": "https://localhost:8080/"
        },
        "id": "UTZ5vUfg7jo6",
        "outputId": "b7c3011b-815e-4270-e159-0fb71b91e76a"
      },
      "execution_count": 211,
      "outputs": [
        {
          "output_type": "execute_result",
          "data": {
            "text/plain": [
              "array([[[81, 92, 73, 44, 35],\n",
              "        [ 0, 22, 13, 63, 73],\n",
              "        [ 0,  0, 45, 23, 41],\n",
              "        [ 0,  0,  0, 84, 34]]])"
            ]
          },
          "metadata": {},
          "execution_count": 211
        }
      ]
    },
    {
      "cell_type": "markdown",
      "source": [
        "####Lower Triangular Matrix"
      ],
      "metadata": {
        "id": "oKEymxRK8WXf"
      }
    },
    {
      "cell_type": "code",
      "source": [
        "#Lower Triangular Matrix \n",
        "np.array([\n",
        "  [42, 0, 0, 0],\n",
        "  [69, 42, 0, 0,],\n",
        "  [69, 42, 42, 0],\n",
        "  [69, 69, 69, 69]\n",
        "])"
      ],
      "metadata": {
        "colab": {
          "base_uri": "https://localhost:8080/"
        },
        "id": "LL54ajWe8bie",
        "outputId": "5c5502f2-8870-4547-d142-076b7917ae32"
      },
      "execution_count": 212,
      "outputs": [
        {
          "output_type": "execute_result",
          "data": {
            "text/plain": [
              "array([[42,  0,  0,  0],\n",
              "       [69, 42,  0,  0],\n",
              "       [69, 42, 42,  0],\n",
              "       [69, 69, 69, 69]])"
            ]
          },
          "metadata": {},
          "execution_count": 212
        }
      ]
    },
    {
      "cell_type": "code",
      "source": [
        "#Other Way to Declare a Lower Triangular Matrix\n",
        "np.tril (M)"
      ],
      "metadata": {
        "colab": {
          "base_uri": "https://localhost:8080/"
        },
        "id": "-hF9Td4D82ox",
        "outputId": "b5ad25be-25de-416f-a072-75a149fe382e"
      },
      "execution_count": 213,
      "outputs": [
        {
          "output_type": "execute_result",
          "data": {
            "text/plain": [
              "array([[ 32,   0,   0,   0,   0],\n",
              "       [ 32, -65,   0,   0,   0],\n",
              "       [ 32, -65,  15,   0,   0],\n",
              "       [ 32, -65,  15, -69,   0],\n",
              "       [ 32, -65,  15, -69,  20]])"
            ]
          },
          "metadata": {},
          "execution_count": 213
        }
      ]
    },
    {
      "cell_type": "markdown",
      "source": [
        "#Practice"
      ],
      "metadata": {
        "id": "G52vI9NA8-xW"
      }
    },
    {
      "cell_type": "markdown",
      "source": [
        "Given the linear combination below, try to create a corresponding matrix representing it.\n",
        "\n",
        "$$\n",
        "\\theta = 5x + 3y -z\n",
        "$$"
      ],
      "metadata": {
        "id": "L8TkHv3Jhpwf"
      }
    },
    {
      "cell_type": "code",
      "source": [
        ""
      ],
      "metadata": {
        "id": "Ur-m04bRjBG-"
      },
      "execution_count": null,
      "outputs": []
    },
    {
      "cell_type": "markdown",
      "source": [
        "Given the system of linear combinations below, try to encode it as a matrix. Also describe the matrix.\n",
        "\n",
        "$$\n",
        "A = \\left\\{\n",
        "    \\begin{array}\\\n",
        "    x_1 + 2x_2 + x_3 \\\\\n",
        "    4x_2 - x_3 \\\\\n",
        "    10x_3\n",
        "    \\end{array}\n",
        "\\right. \n",
        "$$"
      ],
      "metadata": {
        "id": "uxCZWucdd6Gn"
      }
    },
    {
      "cell_type": "code",
      "source": [
        "def describe_mat(matrix):\n",
        "    print(f'Matrix:\\n{matrix}\\n\\nShape:\\t{matrix.shape}\\nRank:\\t{matrix.ndim}\\n')\n",
        "A = np.array ([\n",
        "    [1, 2, 1],\n",
        "    [-1, 4, 0],\n",
        "    [10, 0 ,0]\n",
        "])\n",
        "A\n",
        "describe_mat(A)"
      ],
      "metadata": {
        "id": "nt0Rc8__jLni"
      },
      "execution_count": null,
      "outputs": []
    },
    {
      "cell_type": "markdown",
      "source": [
        "Given the matrix below, express it as a linear combination in a markdown.\n",
        "\n",
        "G = np.array([ <br>\n",
        "    [1,7,8], <br>\n",
        "    [2,2,2], <br>\n",
        "    [4,6,7] <br>\n",
        "])\n",
        "\n",
        ":$$\n",
        "G=\\begin{bmatrix} 1 & 7 & 8 \\\\ 2 & 2 & 2 \\\\ 4 & 6 &7\\end{bmatrix} \\\\\n",
        "$$\n",
        "\n",
        "\n",
        "$$\n",
        "G = \\left\\{\n",
        "    \\begin{array}\\\n",
        "    x_1 + 7x_2 + 8x_3\\\\\n",
        "    2x_1 + 2x_2 + 2x_3 \\\\\n",
        "    4x_1 + 6x_2 + 7x_3\n",
        "    \\end{array}\n",
        "\\right. \n",
        "$$"
      ],
      "metadata": {
        "id": "5Bgy_MP5fqlP"
      }
    },
    {
      "cell_type": "markdown",
      "source": [
        "Given the matrix below, display the output as a LaTeX makdown also express it as a system of linear combinations. <br>\n",
        "H = np.tril(G) <br>\n",
        "H\n",
        "\n",
        "array([[1, 0, 0], <br>\n",
        "       [2, 2, 0], <br>\n",
        "       [4, 6, 7]]) <br>\n",
        "\n",
        ":$$\n",
        "H=\\begin{bmatrix} 1 & 0 & 0 \\\\ 2 & 2 & 0 \\\\ 4 & 6 &7\\end{bmatrix} \\\\\n",
        "$$\n",
        "\n",
        "$$\n",
        "H = \\left\\{\n",
        "    \\begin{array}\\\n",
        "    x_1  \\\\\n",
        "    2x_1 - 2x_2 \\\\\n",
        "    4x_1 + 6x_2 + 7x_3\n",
        "    \\end{array}\n",
        "\\right. \n",
        "$$"
      ],
      "metadata": {
        "id": "LDWmAc5hhEHa"
      }
    },
    {
      "cell_type": "markdown",
      "source": [
        "#### Matrix Algebra\n",
        "\n"
      ],
      "metadata": {
        "id": "D6MCEzR29CUM"
      }
    },
    {
      "cell_type": "markdown",
      "source": [
        "#####Addition"
      ],
      "metadata": {
        "id": "1fGTs8pA9FrC"
      }
    },
    {
      "cell_type": "code",
      "source": [
        "#Declaring Matrix M and J and Addition of Matrices\n",
        "M = np.array([\n",
        "     [8, 24],\n",
        "     [5, 0],\n",
        "     [32, 10]\n",
        "])\n",
        "J = np.array([\n",
        "     [12, 15],\n",
        "     [0, 0],\n",
        "     [23, 65]\n",
        "])\n",
        "M+J"
      ],
      "metadata": {
        "colab": {
          "base_uri": "https://localhost:8080/"
        },
        "id": "Lq7hdfUr9Mju",
        "outputId": "7964a4ce-6003-4ad8-8234-dcf3d4990510"
      },
      "execution_count": 214,
      "outputs": [
        {
          "output_type": "execute_result",
          "data": {
            "text/plain": [
              "array([[20, 39],\n",
              "       [ 5,  0],\n",
              "       [55, 75]])"
            ]
          },
          "metadata": {},
          "execution_count": 214
        }
      ]
    },
    {
      "cell_type": "code",
      "source": [
        "3+M ####Broadcasting\n",
        "#3*np.ones(J.shape)+M"
      ],
      "metadata": {
        "colab": {
          "base_uri": "https://localhost:8080/"
        },
        "id": "YK88Jb_j9y9p",
        "outputId": "3cd22d08-fcf8-46c4-d614-8221ecbcf021"
      },
      "execution_count": 215,
      "outputs": [
        {
          "output_type": "execute_result",
          "data": {
            "text/plain": [
              "array([[11, 27],\n",
              "       [ 8,  3],\n",
              "       [35, 13]])"
            ]
          },
          "metadata": {},
          "execution_count": 215
        }
      ]
    },
    {
      "cell_type": "code",
      "source": [
        "#Other Way to Perform Addition of Matrices\n",
        "np.add(M,J)"
      ],
      "metadata": {
        "colab": {
          "base_uri": "https://localhost:8080/"
        },
        "id": "eFqXkr2y-AbB",
        "outputId": "235341ee-85b3-46f6-b723-1f688ee4e54c"
      },
      "execution_count": 216,
      "outputs": [
        {
          "output_type": "execute_result",
          "data": {
            "text/plain": [
              "array([[20, 39],\n",
              "       [ 5,  0],\n",
              "       [55, 75]])"
            ]
          },
          "metadata": {},
          "execution_count": 216
        }
      ]
    },
    {
      "cell_type": "markdown",
      "source": [
        "#####Subtraction"
      ],
      "metadata": {
        "id": "DitXX0nM-Ioh"
      }
    },
    {
      "cell_type": "code",
      "source": [
        "#Subtraction of Matrices\n",
        "M-J"
      ],
      "metadata": {
        "colab": {
          "base_uri": "https://localhost:8080/"
        },
        "id": "0LCBslTw-KjA",
        "outputId": "ba0bef44-e49f-485c-c239-24598db72197"
      },
      "execution_count": 217,
      "outputs": [
        {
          "output_type": "execute_result",
          "data": {
            "text/plain": [
              "array([[ -4,   9],\n",
              "       [  5,   0],\n",
              "       [  9, -55]])"
            ]
          },
          "metadata": {},
          "execution_count": 217
        }
      ]
    },
    {
      "cell_type": "code",
      "source": [
        "2-M\n",
        "#2*np.ones(M.shape)-J"
      ],
      "metadata": {
        "colab": {
          "base_uri": "https://localhost:8080/"
        },
        "id": "-WT8q-ne-P70",
        "outputId": "5e928036-e022-44e3-bb30-eb7a0b69e2ad"
      },
      "execution_count": 218,
      "outputs": [
        {
          "output_type": "execute_result",
          "data": {
            "text/plain": [
              "array([[ -6, -22],\n",
              "       [ -3,   2],\n",
              "       [-30,  -8]])"
            ]
          },
          "metadata": {},
          "execution_count": 218
        }
      ]
    },
    {
      "cell_type": "markdown",
      "source": [
        "#####Element-wise Multiplication"
      ],
      "metadata": {
        "id": "WmsfdqNW-Z6j"
      }
    },
    {
      "cell_type": "code",
      "source": [
        "#Element-wise Multiplication\n",
        "M*J\n",
        "#np.multiply(M,J)"
      ],
      "metadata": {
        "colab": {
          "base_uri": "https://localhost:8080/"
        },
        "id": "Xtke5qhj-dyQ",
        "outputId": "c22a66dc-1eee-40a7-c8a8-0a5110ff10dc"
      },
      "execution_count": 219,
      "outputs": [
        {
          "output_type": "execute_result",
          "data": {
            "text/plain": [
              "array([[ 96, 360],\n",
              "       [  0,   0],\n",
              "       [736, 650]])"
            ]
          },
          "metadata": {},
          "execution_count": 219
        }
      ]
    },
    {
      "cell_type": "code",
      "source": [
        "#Multiplication of a Constant and a Matrix\n",
        "5*M"
      ],
      "metadata": {
        "colab": {
          "base_uri": "https://localhost:8080/"
        },
        "id": "wKErkEIc-nJp",
        "outputId": "933a5392-7ec4-4ccc-cd20-0dacdf6d2cca"
      },
      "execution_count": 220,
      "outputs": [
        {
          "output_type": "execute_result",
          "data": {
            "text/plain": [
              "array([[ 40, 120],\n",
              "       [ 25,   0],\n",
              "       [160,  50]])"
            ]
          },
          "metadata": {},
          "execution_count": 220
        }
      ]
    },
    {
      "cell_type": "markdown",
      "source": [
        "#####Element-wise Division"
      ],
      "metadata": {
        "id": "mkaoZ1OJAe0I"
      }
    },
    {
      "cell_type": "code",
      "source": [
        "#Element-wise Division\n",
        "M/J"
      ],
      "metadata": {
        "colab": {
          "base_uri": "https://localhost:8080/"
        },
        "id": "MscTutLZAhq9",
        "outputId": "57dd91a9-3022-4abc-9602-c2c335c19296"
      },
      "execution_count": 221,
      "outputs": [
        {
          "output_type": "stream",
          "name": "stderr",
          "text": [
            "/usr/local/lib/python3.7/dist-packages/ipykernel_launcher.py:2: RuntimeWarning: divide by zero encountered in true_divide\n",
            "  \n",
            "/usr/local/lib/python3.7/dist-packages/ipykernel_launcher.py:2: RuntimeWarning: invalid value encountered in true_divide\n",
            "  \n"
          ]
        },
        {
          "output_type": "execute_result",
          "data": {
            "text/plain": [
              "array([[0.66666667, 1.6       ],\n",
              "       [       inf,        nan],\n",
              "       [1.39130435, 0.15384615]])"
            ]
          },
          "metadata": {},
          "execution_count": 221
        }
      ]
    },
    {
      "cell_type": "code",
      "source": [
        "#Division Involving Matrices\n",
        "omega=10**-2\n",
        "M/(omega+J)"
      ],
      "metadata": {
        "colab": {
          "base_uri": "https://localhost:8080/"
        },
        "id": "szW9f9FjApnl",
        "outputId": "0f9742d0-f34b-43ce-8b16-c45553d299de"
      },
      "execution_count": 222,
      "outputs": [
        {
          "output_type": "execute_result",
          "data": {
            "text/plain": [
              "array([[6.66111574e-01, 1.59893404e+00],\n",
              "       [5.00000000e+02, 0.00000000e+00],\n",
              "       [1.39069970e+00, 1.53822489e-01]])"
            ]
          },
          "metadata": {},
          "execution_count": 222
        }
      ]
    },
    {
      "cell_type": "markdown",
      "source": [
        "#Activity\n",
        "This part is where we are given an output that involves our learnings about Matrices in Python"
      ],
      "metadata": {
        "id": "jfh7CyxoA3Je"
      }
    },
    {
      "cell_type": "markdown",
      "source": [
        "####Task 1\n",
        "Create a function named mat_desc() that througouhly describes a matrix, it should:\n",
        "\n",
        "Displays the shape, size, and rank of the matrix.<br>\n",
        "Displays whether the matrix is square or non-square.<br>\n",
        "Displays whether the matrix is an empty matrix.<br>\n",
        "Displays if the matrix is an identity, ones, or zeros matrix\n",
        "\n",
        "Use 5 sample matrices in which their shapes are not lower than (3,3) . In your methodology, create a flowchart discuss the functions and methods you have done. Present your results in the results section showing the description of each matrix you have declared."
      ],
      "metadata": {
        "id": "WP_lT4dIBPUS"
      }
    },
    {
      "cell_type": "code",
      "source": [
        "## Function Area \n",
        "import numpy as np\n",
        "import matplotlib.pyplot as plt\n",
        "import scipy.linalg as la\n",
        "%matplotlib inline\n",
        "def describe_mat(matrix):\n",
        "  if matrix.size > 0:\n",
        "    if matrix.shape[0] == matrix.shape[1]:\n",
        "      is_square = True\n",
        "    else: \n",
        "      is_square = False\n",
        "    if np.all(matrix == np.identity(matrix.shape[0])):\n",
        "      sp = \"Identity Matrix\"\n",
        "    elif np.all(matrix == np.zeros(matrix.shape)):\n",
        "      sp = \"Zero Matrix.\"\n",
        "    elif np.all(matrix == np.ones(matrix.shape)):\n",
        "      sp = \"Ones Matrix.\"\n",
        "    else:\n",
        "      sp = \"None.\"\n",
        "    print(f'Matrix:\\n{matrix}\\n\\nShape:\\t{matrix.shape}\\nRank:\\t{matrix.ndim}\\nIs Square: {is_square}\\n')\n",
        "  else:\n",
        "    print('Matrix is Null.')\n",
        "  \n",
        "    "
      ],
      "metadata": {
        "id": "hQg3Lk-bO1p5"
      },
      "execution_count": 223,
      "outputs": []
    },
    {
      "cell_type": "code",
      "source": [
        "## Matrix Declarations\n",
        "L = np.array([[[[\n",
        "    [96, 68, 33, 39, 51],\n",
        "    [60, 19 ,30, 45, 86],\n",
        "    [62, 57, 68, 93, 31],\n",
        "    [57, 23, 19, 58, 23]\n",
        "]]]])\n",
        "\n",
        "N = np.array([[[\n",
        "    [31, 32, 33, 34, 35],\n",
        "    [41, 42, 53, 53, 13],\n",
        "    [71, 24, 65, 73, 31],\n",
        "    [31, 89, 13, 54, 14]\n",
        "]]])\n",
        "\n",
        "E = np.array([[\n",
        "    [81, 92, 73, 44, 35],\n",
        "    [11, 22, 13, 63, 73],\n",
        "    [71, 54, 45, 23, 41],\n",
        "    [71, 89, 13, 84, 34]\n",
        "]])\n",
        "\n",
        "A = np.array([\n",
        "    [32, 34, 37, 32, 36],\n",
        "    [41, 42, 57, 52, 13],\n",
        "    [71, 24, 65, 73, 31],\n",
        "    [31, 89, 13, 54, 14]\n",
        "])\n",
        "\n",
        "R = np.array([\n",
        "    [31, 32, 33, 34, 35],\n",
        "    [43, 42, 50, 57, 13],\n",
        "    [72, 24, 65, 73, 39],\n",
        "    [51, 89, 13, 74, 54]\n",
        "  ]) "
      ],
      "metadata": {
        "id": "90PudHYhDnmL"
      },
      "execution_count": 224,
      "outputs": []
    },
    {
      "cell_type": "code",
      "source": [
        "## Test Areas \n",
        "\n",
        "describe_mat(L)\n",
        "\n",
        "describe_mat(N)\n",
        "\n",
        "describe_mat(E)\n",
        "\n",
        "describe_mat(A)\n",
        "\n",
        "describe_mat(R)"
      ],
      "metadata": {
        "colab": {
          "base_uri": "https://localhost:8080/"
        },
        "id": "8jmzL67oD7b2",
        "outputId": "bb2fd7bf-911d-4080-cfaa-be252b91588e"
      },
      "execution_count": 225,
      "outputs": [
        {
          "output_type": "stream",
          "name": "stdout",
          "text": [
            "Matrix:\n",
            "[[[[[96 68 33 39 51]\n",
            "    [60 19 30 45 86]\n",
            "    [62 57 68 93 31]\n",
            "    [57 23 19 58 23]]]]]\n",
            "\n",
            "Shape:\t(1, 1, 1, 4, 5)\n",
            "Rank:\t5\n",
            "Is Square: True\n",
            "\n",
            "Matrix:\n",
            "[[[[31 32 33 34 35]\n",
            "   [41 42 53 53 13]\n",
            "   [71 24 65 73 31]\n",
            "   [31 89 13 54 14]]]]\n",
            "\n",
            "Shape:\t(1, 1, 4, 5)\n",
            "Rank:\t4\n",
            "Is Square: True\n",
            "\n",
            "Matrix:\n",
            "[[[81 92 73 44 35]\n",
            "  [11 22 13 63 73]\n",
            "  [71 54 45 23 41]\n",
            "  [71 89 13 84 34]]]\n",
            "\n",
            "Shape:\t(1, 4, 5)\n",
            "Rank:\t3\n",
            "Is Square: False\n",
            "\n",
            "Matrix:\n",
            "[[32 34 37 32 36]\n",
            " [41 42 57 52 13]\n",
            " [71 24 65 73 31]\n",
            " [31 89 13 54 14]]\n",
            "\n",
            "Shape:\t(4, 5)\n",
            "Rank:\t2\n",
            "Is Square: False\n",
            "\n",
            "Matrix:\n",
            "[[31 32 33 34 35]\n",
            " [43 42 50 57 13]\n",
            " [72 24 65 73 39]\n",
            " [51 89 13 74 54]]\n",
            "\n",
            "Shape:\t(4, 5)\n",
            "Rank:\t2\n",
            "Is Square: False\n",
            "\n"
          ]
        },
        {
          "output_type": "stream",
          "name": "stderr",
          "text": [
            "/usr/local/lib/python3.7/dist-packages/ipykernel_launcher.py:12: DeprecationWarning: elementwise comparison failed; this will raise an error in the future.\n",
            "  if sys.path[0] == '':\n"
          ]
        }
      ]
    },
    {
      "cell_type": "markdown",
      "source": [
        "###Task 2\n",
        "Create a function named mat_operations() that takes in two matrices a input parameters it should:\n",
        "\n",
        "Determines if the matrices are viable for operation and returns your own error message if they are not viable.<br>\n",
        "Returns the sum of the matrices.<br>\n",
        "Returns the differen of the matrices.<br>\n",
        "Returns the element-wise multiplication of the matrices.<br>\n",
        "\n",
        "Returns the element-wise division of the matrices.\n",
        "Use 5 sample matrices in which their shapes are not lower than (3,3). In your methodology, create a flowchart discuss the functions and methods you have done. Present your results in the results section showing the description of each matrix you have declared."
      ],
      "metadata": {
        "id": "VtLXiSaME8Xr"
      }
    },
    {
      "cell_type": "code",
      "source": [
        "## Function Area\n",
        "import numpy as np\n",
        "def mat_operation(L, N):\n",
        "  print(f'Matrix 1:\\n {M} \\n')\n",
        "  print(f'Matrix 2:\\n {J} \\n')\n",
        "\n",
        "\n",
        "  if(M.shape != J.shape):\n",
        "    print('The shape of both matrices are not same. The system could not perform any operation.')\n",
        "    return\n",
        "\n",
        "  plus = M + J\n",
        "  print(f'Sum of the chosen matrices:\\n {plus} \\n')\n",
        "\n",
        "  minus = M - J\n",
        "  print(f'Difference of the chosen matrices:\\n {minus} \\n')\n",
        "\n",
        "  matpro = np.multiply(M, J)\n",
        "  print(f'Element-wise multiplication of the chosen matrices:\\n {matpro} \\n')\n",
        "\n",
        "  matdiv = np.divide(M, J)\n",
        "  print(f'Element-wise division of the chosen matrices:\\n {matdiv} \\n')"
      ],
      "metadata": {
        "id": "160_J5U4Bfbv"
      },
      "execution_count": 226,
      "outputs": []
    },
    {
      "cell_type": "code",
      "source": [
        "## Matrix Declarations\n",
        "M = np.array([\n",
        "     [8, 24],\n",
        "     [5, 0],\n",
        "     [32, 10]\n",
        "])\n",
        "J = np.array([\n",
        "     [12, 15],\n",
        "     [0, 0],\n",
        "     [23, 65]\n",
        "])"
      ],
      "metadata": {
        "id": "Ngqxcb7wbhTM"
      },
      "execution_count": 227,
      "outputs": []
    },
    {
      "cell_type": "code",
      "source": [
        "## Test Areas\n",
        "mat_operation(M, J)"
      ],
      "metadata": {
        "colab": {
          "base_uri": "https://localhost:8080/"
        },
        "id": "1k10vAGQbtgm",
        "outputId": "c6c8cf51-ca36-4c4d-afaf-08fe295fe3db"
      },
      "execution_count": 228,
      "outputs": [
        {
          "output_type": "stream",
          "name": "stdout",
          "text": [
            "Matrix 1:\n",
            " [[ 8 24]\n",
            " [ 5  0]\n",
            " [32 10]] \n",
            "\n",
            "Matrix 2:\n",
            " [[12 15]\n",
            " [ 0  0]\n",
            " [23 65]] \n",
            "\n",
            "Sum of the chosen matrices:\n",
            " [[20 39]\n",
            " [ 5  0]\n",
            " [55 75]] \n",
            "\n",
            "Difference of the chosen matrices:\n",
            " [[ -4   9]\n",
            " [  5   0]\n",
            " [  9 -55]] \n",
            "\n",
            "Element-wise multiplication of the chosen matrices:\n",
            " [[ 96 360]\n",
            " [  0   0]\n",
            " [736 650]] \n",
            "\n",
            "Element-wise division of the chosen matrices:\n",
            " [[0.66666667 1.6       ]\n",
            " [       inf        nan]\n",
            " [1.39130435 0.15384615]] \n",
            "\n"
          ]
        },
        {
          "output_type": "stream",
          "name": "stderr",
          "text": [
            "/usr/local/lib/python3.7/dist-packages/ipykernel_launcher.py:21: RuntimeWarning: divide by zero encountered in true_divide\n",
            "/usr/local/lib/python3.7/dist-packages/ipykernel_launcher.py:21: RuntimeWarning: invalid value encountered in true_divide\n"
          ]
        }
      ]
    },
    {
      "cell_type": "markdown",
      "source": [
        "#Conclusion"
      ],
      "metadata": {
        "id": "UR2Qw5yPckM-"
      }
    }
  ]
}