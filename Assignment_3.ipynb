{
  "nbformat": 4,
  "nbformat_minor": 0,
  "metadata": {
    "colab": {
      "name": "Assignment 3.ipynb",
      "provenance": [],
      "collapsed_sections": [],
      "authorship_tag": "ABX9TyPm8Fz/sZ9jDwsSf7NsOK7K",
      "include_colab_link": true
    },
    "kernelspec": {
      "name": "python3",
      "display_name": "Python 3"
    },
    "language_info": {
      "name": "python"
    }
  },
  "cells": [
    {
      "cell_type": "markdown",
      "metadata": {
        "id": "view-in-github",
        "colab_type": "text"
      },
      "source": [
        "<a href=\"https://colab.research.google.com/github/mikodeperalta12/-Linear-Algebra_ChE_2nd-Sem-2021-2022/blob/main/Assignment_3.ipynb\" target=\"_parent\"><img src=\"https://colab.research.google.com/assets/colab-badge.svg\" alt=\"Open In Colab\"/></a>"
      ]
    },
    {
      "cell_type": "markdown",
      "source": [
        "#Linear Algebra for ChE\n",
        "##Assignment 3: Matrices"
      ],
      "metadata": {
        "id": "klp67CfIYg8J"
      }
    },
    {
      "cell_type": "markdown",
      "source": [
        "\n",
        "\n",
        "We'll try to look into further depth keeping in mind the basic understanding of Python.\n",
        "\n"
      ],
      "metadata": {
        "id": "FK7EVKnVTCdM"
      }
    },
    {
      "cell_type": "markdown",
      "source": [
        "###Objectives\n",
        "At the end of this activity you will be able to:\n",
        "1. Perform basic matrix computations. \n",
        "2. Understand matrices and how they relate to linear equations. \n",
        "3. Interpret and utilize matrix equations and operations."
      ],
      "metadata": {
        "id": "MuIUtu7gY46n"
      }
    },
    {
      "cell_type": "markdown",
      "source": [
        "# Discussion"
      ],
      "metadata": {
        "id": "yLszoNGfUVv0"
      }
    },
    {
      "cell_type": "code",
      "source": [
        "import numpy as np\n",
        "import matplotlib.pyplot as plt\n",
        "import scipy.linalg as la\n",
        "%matplotlib inline"
      ],
      "metadata": {
        "id": "JTr1SYF4UwFj"
      },
      "execution_count": 8,
      "outputs": []
    },
    {
      "cell_type": "markdown",
      "source": [
        "$$\n",
        "A = \\left\\{\n",
        "    \\begin{array}\\\n",
        "        x + y \\\\\n",
        "        4x - 10y \n",
        "    \\end{array}\n",
        "    \\right. \\\\\n",
        "B = \\left\\{\n",
        "    \\begin{array}\\\n",
        "        x+y+z \\\\\n",
        "        3x -2y -z \\\\\n",
        "        -x + 4y +2z\n",
        "    \\end{array}\n",
        "  \\right. \\\\\n",
        "C = \\left\\{\n",
        "    \\begin{array}\\\n",
        "        w-2x+3y-4z \\\\ \n",
        "        3w -x -2y + z \\\\\n",
        "        2w- x +3y +2z \\\\\n",
        "      \\end{array}\n",
        "\\right. $$\n",
        "\n",
        "         \n",
        "\n",
        "\n"
      ],
      "metadata": {
        "id": "vA8VmTRaxqqX"
      }
    },
    {
      "cell_type": "markdown",
      "source": [
        ":$$\n",
        "A=\\begin{bmatrix}\\ 1 & 1 \\\\ 4 & {-10}\\end{bmatrix} \\\\\n",
        "B=\\begin{bmatrix}\\ 1 & 1 & 1 \\\\ 3 & -2 & -1 \\\\ -1 & 4 & 2\\end\n",
        "{bmatrix}\\\\\n",
        "C=\\begin{bmatrix}\\ 1 & -2 & 3 & -4 \\\\ 3 & -1 & -2 & 1 \\\\ 2 & -1 & 3 & -2\\end{bmatrix} \n",
        "$$\n",
        "\n",
        "\n"
      ],
      "metadata": {
        "id": "g6wHuEzK0vVJ"
      }
    },
    {
      "cell_type": "code",
      "source": [
        "## Since we'll keep on describing matrices. Let's make a function.\n",
        "def describe_mat(matrix):\n",
        "    print(f'Matrix:\\n{matrix}\\n\\nShape:\\t{matrix.shape}\\nRank:\\t{matrix.ndim}\\n')"
      ],
      "metadata": {
        "id": "EPVr4rPq2drI"
      },
      "execution_count": 39,
      "outputs": []
    },
    {
      "cell_type": "code",
      "source": [
        "## Declaring a 4 x 5 matrix\n",
        "L = np.array([[[[\n",
        "    [96, 68, 33, 39, 51],\n",
        "    [60, 19 ,30, 45, 86],\n",
        "    [62, 57, 68, 93, 31],\n",
        "    [57, 23, 19, 58, 23]\n",
        "]]]])\n",
        "describe_mat(L)"
      ],
      "metadata": {
        "colab": {
          "base_uri": "https://localhost:8080/"
        },
        "id": "tvtBsfRH3RXG",
        "outputId": "595dc80b-4598-4a5f-dcbf-234f65b8c3a0"
      },
      "execution_count": 68,
      "outputs": [
        {
          "output_type": "stream",
          "name": "stdout",
          "text": [
            "Matrix:\n",
            "[[[[[96 68 33 39 51]\n",
            "    [60 19 30 45 86]\n",
            "    [62 57 68 93 31]\n",
            "    [57 23 19 58 23]]]]]\n",
            "\n",
            "Shape:\t(1, 1, 1, 4, 5)\n",
            "Rank:\t5\n",
            "\n"
          ]
        }
      ]
    },
    {
      "cell_type": "code",
      "source": [
        "N = np.array([[[\n",
        "    [31, 32, 33, 34, 35],\n",
        "    [41, 42, 53, 53, 13],\n",
        "    [71, 24, 65, 73, 31],\n",
        "    [31, 89, 13, 54, 14]\n",
        "]]])\n",
        "describe_mat(N)"
      ],
      "metadata": {
        "colab": {
          "base_uri": "https://localhost:8080/"
        },
        "id": "5I_DSODj8l3f",
        "outputId": "bd24e8a9-1006-4f70-bdbf-f774f62bb87c"
      },
      "execution_count": 69,
      "outputs": [
        {
          "output_type": "stream",
          "name": "stdout",
          "text": [
            "Matrix:\n",
            "[[[[31 32 33 34 35]\n",
            "   [41 42 53 53 13]\n",
            "   [71 24 65 73 31]\n",
            "   [31 89 13 54 14]]]]\n",
            "\n",
            "Shape:\t(1, 1, 4, 5)\n",
            "Rank:\t4\n",
            "\n"
          ]
        }
      ]
    },
    {
      "cell_type": "code",
      "source": [
        "E = np.array([[\n",
        "    [81, 92, 73, 44, 35],\n",
        "    [11, 22, 13, 63, 73],\n",
        "    [71, 54, 45, 23, 41],\n",
        "    [71, 89, 13, 84, 34]\n",
        "]])\n",
        "describe_mat(E)"
      ],
      "metadata": {
        "colab": {
          "base_uri": "https://localhost:8080/"
        },
        "id": "t4tpxE-P3azZ",
        "outputId": "e36d4051-6829-4b91-8082-9a7c2948a56f"
      },
      "execution_count": 70,
      "outputs": [
        {
          "output_type": "stream",
          "name": "stdout",
          "text": [
            "Matrix:\n",
            "[[[81 92 73 44 35]\n",
            "  [11 22 13 63 73]\n",
            "  [71 54 45 23 41]\n",
            "  [71 89 13 84 34]]]\n",
            "\n",
            "Shape:\t(1, 4, 5)\n",
            "Rank:\t3\n",
            "\n"
          ]
        }
      ]
    },
    {
      "cell_type": "code",
      "source": [
        "A = np.array([\n",
        "    [32, 34, 37, 32, 36],\n",
        "    [41, 42, 57, 52, 13],\n",
        "    [71, 24, 65, 73, 31],\n",
        "    [31, 89, 13, 54, 14]\n",
        "])\n",
        "describe_mat(A)"
      ],
      "metadata": {
        "colab": {
          "base_uri": "https://localhost:8080/"
        },
        "id": "q4lykBho8rBU",
        "outputId": "5307d984-e2fb-4db3-ce77-15fc9c345a87"
      },
      "execution_count": 71,
      "outputs": [
        {
          "output_type": "stream",
          "name": "stdout",
          "text": [
            "Matrix:\n",
            "[[32 34 37 32 36]\n",
            " [41 42 57 52 13]\n",
            " [71 24 65 73 31]\n",
            " [31 89 13 54 14]]\n",
            "\n",
            "Shape:\t(4, 5)\n",
            "Rank:\t2\n",
            "\n"
          ]
        }
      ]
    },
    {
      "cell_type": "code",
      "source": [
        "R = np.array([\n",
        "    [31, 32, 33, 34, 35],\n",
        "    [43, 42, 50, 57, 13],\n",
        "    [72, 24, 65, 73, 39],\n",
        "    [51, 89, 13, 74, 54]\n",
        "  ]) \n",
        "describe_mat(R)\n"
      ],
      "metadata": {
        "colab": {
          "base_uri": "https://localhost:8080/"
        },
        "id": "SuIQLQAx8uoL",
        "outputId": "2521580d-0a07-41d8-8ec7-5420888b06f1"
      },
      "execution_count": 76,
      "outputs": [
        {
          "output_type": "stream",
          "name": "stdout",
          "text": [
            "Matrix:\n",
            "[[31 32 33 34 35]\n",
            " [43 42 50 57 13]\n",
            " [72 24 65 73 39]\n",
            " [51 89 13 74 54]]\n",
            "\n",
            "Shape:\t(4, 5)\n",
            "Rank:\t2\n",
            "\n"
          ]
        }
      ]
    }
  ]
}