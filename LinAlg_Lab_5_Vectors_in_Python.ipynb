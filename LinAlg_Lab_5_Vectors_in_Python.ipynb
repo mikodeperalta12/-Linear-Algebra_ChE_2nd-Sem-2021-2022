{
  "nbformat": 4,
  "nbformat_minor": 0,
  "metadata": {
    "colab": {
      "name": "LinAlg Lab 5 - Vectors in Python.ipynb",
      "provenance": [],
      "toc_visible": true,
      "authorship_tag": "ABX9TyOUYGlroqNzeQYs1tL9x4yY",
      "include_colab_link": true
    },
    "kernelspec": {
      "name": "python3",
      "display_name": "Python 3"
    },
    "language_info": {
      "name": "python"
    }
  },
  "cells": [
    {
      "cell_type": "markdown",
      "metadata": {
        "id": "view-in-github",
        "colab_type": "text"
      },
      "source": [
        "<a href=\"https://colab.research.google.com/github/mikodeperalta12/-Linear-Algebra_ChE_2nd-Sem-2021-2022/blob/main/LinAlg_Lab_5_Vectors_in_Python.ipynb\" target=\"_parent\"><img src=\"https://colab.research.google.com/assets/colab-badge.svg\" alt=\"Open In Colab\"/></a>"
      ]
    },
    {
      "cell_type": "markdown",
      "source": [
        "### Objectives\n",
        "This activity aims to implement the principles and techniques of basics of\n",
        "numerical and scientific programming by working with vectors using NumPy and\n",
        "MatPlotLib. It will also teach you on how to plot and display 2D graphs. At the end of this\n",
        "activity the students will be able to:\n",
        "\n",
        "1. Be familiar with the libraries in Python for numerical and scientific programming.\n",
        "\n",
        "2. Visualize vecvtors through Python programming.\n",
        "\n",
        "3. Perform simple vector operations through code."
      ],
      "metadata": {
        "id": "eySKksdxfGda"
      }
    },
    {
      "cell_type": "markdown",
      "source": [
        "## Discussion"
      ],
      "metadata": {
        "id": "SVA9yh4SgEv6"
      }
    },
    {
      "cell_type": "markdown",
      "source": [
        "### NumPy"
      ],
      "metadata": {
        "id": "y9dZkmxfgJFa"
      }
    },
    {
      "cell_type": "markdown",
      "source": [
        "Numerical Python is a method mainly used for matrix and vector operations. This method has the capability of declaring, computing, and representing matrices. \n",
        "\n",
        "NumPy is the most common and basic code used scientific programming in libraries "
      ],
      "metadata": {
        "id": "DNV5aji9gnIt"
      }
    },
    {
      "cell_type": "markdown",
      "source": [
        "Scalars \\\\\n",
        "Represent magnitude or a single value\n",
        "\n",
        "Vectors \\\\\n",
        "Represent magnitude with directors"
      ],
      "metadata": {
        "id": "yuVTGA_xgtZr"
      }
    },
    {
      "cell_type": "markdown",
      "source": [
        "### Methods\n",
        "\n",
        "Gooogle Colab was used for the laboratory activity. Students started with reviewing the basic\n",
        "functions and their definitions. Later on we proceed with learning the definitions of\n",
        "MatPlotLib and on visualizing data by creating a program where you can display a 2D graph\n",
        "of the vectors."
      ],
      "metadata": {
        "id": "BrMPbVjZfYOn"
      }
    },
    {
      "cell_type": "markdown",
      "source": [
        "#### Representing Vectors"
      ],
      "metadata": {
        "id": "5Pz0lcmggyK6"
      }
    },
    {
      "cell_type": "markdown",
      "source": [
        "This part shows how we can hard-code vectors using Python. For this example, we have the vectors: "
      ],
      "metadata": {
        "id": "sx-PP6v7g9Fg"
      }
    },
    {
      "cell_type": "markdown",
      "source": [
        "$$ M = 2\\hat{x} + 4\\hat{y} \\\\\n",
        "I = 6\\hat{x} - 8\\hat{y}\\\\\n",
        "K = 1ax + 3ay - 3az \\\\\n",
        "O = 5\\hat{i} - 7\\hat{j} + 9\\hat{k}$$"
      ],
      "metadata": {
        "id": "2FvCAeUohBZ2"
      }
    },
    {
      "cell_type": "markdown",
      "source": [
        "In which it's matrix equivalent is:\n"
      ],
      "metadata": {
        "id": "SbrePZEEhPhi"
      }
    },
    {
      "cell_type": "markdown",
      "source": [
        "$$ A = \\begin{bmatrix} 2 \\\\ 4\\end{bmatrix} , B = \\begin{bmatrix} 6 \\\\ -8\\end{bmatrix} , C = \\begin{bmatrix} 1 \\\\ 3 \\\\  -3 \\end{bmatrix}, D = \\begin{bmatrix} 5 \\\\ -7 \\\\ 9\\end{bmatrix}\n",
        "$$\n",
        "$$ A = \\begin{bmatrix} 2 & 4\\end{bmatrix} , B = \\begin{bmatrix} 6 & -8\\end{bmatrix} , C = \\begin{bmatrix} 1 & 3 & -3\\end{bmatrix} , D = \\begin{bmatrix} 5 & -7 & 9\\end{bmatrix} \n",
        "$$"
      ],
      "metadata": {
        "id": "b4WkRjR5hRfY"
      }
    },
    {
      "cell_type": "markdown",
      "source": [
        "Then we can begin this NumPy code like demonstrated below:"
      ],
      "metadata": {
        "id": "qEz5R3DchqcB"
      }
    },
    {
      "cell_type": "code",
      "source": [
        "import numpy as np ##"
      ],
      "metadata": {
        "id": "FXL-mn4oiECV"
      },
      "execution_count": 80,
      "outputs": []
    },
    {
      "cell_type": "code",
      "source": [
        "M = np.array([2, 4])\n",
        "I = np.array([6, -8])\n",
        "K = np.array([\n",
        "              [1],\n",
        "              [3],\n",
        "              [-3]\n",
        "])\n",
        "O = np.array ([[5],\n",
        "              [-7],\n",
        "              [9]])\n",
        "print('Vector M is ', M)\n",
        "print('Vector I is ', I)\n",
        "print('Vector K is ', K)\n",
        "print('Vector O is ', O)"
      ],
      "metadata": {
        "colab": {
          "base_uri": "https://localhost:8080/"
        },
        "id": "4Dtr_dYdiI_W",
        "outputId": "c6e7b5c6-120d-4efd-d3dd-94271cb0822d"
      },
      "execution_count": 81,
      "outputs": [
        {
          "output_type": "stream",
          "name": "stdout",
          "text": [
            "Vector M is  [2 4]\n",
            "Vector I is  [ 6 -8]\n",
            "Vector K is  [[ 1]\n",
            " [ 3]\n",
            " [-3]]\n",
            "Vector O is  [[ 5]\n",
            " [-7]\n",
            " [ 9]]\n"
          ]
        }
      ]
    },
    {
      "cell_type": "markdown",
      "source": [
        "#### Describing vectors in NumPy"
      ],
      "metadata": {
        "id": "YUCem6NziAse"
      }
    },
    {
      "cell_type": "markdown",
      "source": [
        "Describing vectors is very important if we want to perform basic to advanced operations with them. The fundamental ways in describing vectors are knowing their shape, size and dimensions."
      ],
      "metadata": {
        "id": "upvtfdE8iggG"
      }
    },
    {
      "cell_type": "code",
      "source": [
        "### Checking shapes\n",
        "### Shapes tells us how many elements are there on each row and column\n",
        "\n",
        "M.shape\n",
        "H = np.array([3, 1, 3, 2, -0.9, 7])\n",
        "H.shape\n",
        "K.shape"
      ],
      "metadata": {
        "colab": {
          "base_uri": "https://localhost:8080/"
        },
        "id": "Mhv0i7TDiuEc",
        "outputId": "716b7e00-62be-4c0e-d181-105bed49a691"
      },
      "execution_count": 82,
      "outputs": [
        {
          "output_type": "execute_result",
          "data": {
            "text/plain": [
              "(3, 1)"
            ]
          },
          "metadata": {},
          "execution_count": 82
        }
      ]
    },
    {
      "cell_type": "code",
      "source": [
        "### Checking size\n",
        "### Array/Vector sizes tells us many total number of elements are there in the vector\n",
        "\n",
        "O.size"
      ],
      "metadata": {
        "colab": {
          "base_uri": "https://localhost:8080/"
        },
        "id": "uEuyyh65i7es",
        "outputId": "ab7b0bfa-eca9-49a2-def9-df6212192d20"
      },
      "execution_count": 83,
      "outputs": [
        {
          "output_type": "execute_result",
          "data": {
            "text/plain": [
              "3"
            ]
          },
          "metadata": {},
          "execution_count": 83
        }
      ]
    },
    {
      "cell_type": "code",
      "source": [
        "### Checking dimensions\n",
        "### The dimensions or rank of a vector tells us how many dimensions are there for the vector.\n",
        "\n",
        "O.ndim"
      ],
      "metadata": {
        "colab": {
          "base_uri": "https://localhost:8080/"
        },
        "id": "zLL06xVOi958",
        "outputId": "8d122f20-b0d6-4e7f-a519-646afaee21fe"
      },
      "execution_count": 84,
      "outputs": [
        {
          "output_type": "execute_result",
          "data": {
            "text/plain": [
              "2"
            ]
          },
          "metadata": {},
          "execution_count": 84
        }
      ]
    },
    {
      "cell_type": "markdown",
      "source": [
        "With all that explained, we will now try to explore by performing operations using this vectors."
      ],
      "metadata": {
        "id": "7hTLkBRljLQI"
      }
    },
    {
      "cell_type": "markdown",
      "source": [
        "#### Addition"
      ],
      "metadata": {
        "id": "XRc_KEDFjNyG"
      }
    },
    {
      "cell_type": "markdown",
      "source": [
        "The addition rule is simple, the we just need to add the elements of the matrices according to their index. So in this case if we add vector $A$ and vector $B$ we will have a resulting vector:"
      ],
      "metadata": {
        "id": "lPZ4MgQ6jQgv"
      }
    },
    {
      "cell_type": "markdown",
      "source": [
        "$$A = 9\\hat{x}-3\\hat{y} \\\\ \\\\or \\\\ \\\\ A = \\begin{bmatrix} 9 \\\\ -3\\end{bmatrix} $$"
      ],
      "metadata": {
        "id": "qcfv6ywsjTdW"
      }
    },
    {
      "cell_type": "markdown",
      "source": [
        "So let's try to do that in NumPy in several number of ways:"
      ],
      "metadata": {
        "id": "COfzaYVAjYpe"
      }
    },
    {
      "cell_type": "code",
      "source": [
        "A = np.add(M, I) ## this is the functional method usisng the numpy library\n",
        "L = np.add(K, O)\n"
      ],
      "metadata": {
        "id": "MgmovdNKjffM"
      },
      "execution_count": 85,
      "outputs": []
    },
    {
      "cell_type": "code",
      "source": [
        "A = M + I   ## this is the explicit method, since Python does a value-reference so it can \n",
        "            ## know that these variables would need to do array operations.\n",
        "A"
      ],
      "metadata": {
        "colab": {
          "base_uri": "https://localhost:8080/"
        },
        "id": "E6uGS4wljkhz",
        "outputId": "c804e122-7fe8-4f64-810a-6b154b027f23"
      },
      "execution_count": 86,
      "outputs": [
        {
          "output_type": "execute_result",
          "data": {
            "text/plain": [
              "array([ 8, -4])"
            ]
          },
          "metadata": {},
          "execution_count": 86
        }
      ]
    },
    {
      "cell_type": "code",
      "source": [
        "pos1 = np.array([3,3,3])\n",
        "pos2 = np.array([1,5,1])\n",
        "pos3 = np.array([8,4,-9])\n",
        "pos4 = np.array([7,-7,1])\n",
        "#A = pos1 + pos2 + pos3 + pos4\n",
        "#A = np.multiply(pos3, pos4)\n",
        "A = pos3 / pos4\n",
        "A"
      ],
      "metadata": {
        "colab": {
          "base_uri": "https://localhost:8080/"
        },
        "id": "4cOd4oMyjoTo",
        "outputId": "ac43ca34-3fa8-4f88-f3f2-df64b9dbb613"
      },
      "execution_count": 88,
      "outputs": [
        {
          "output_type": "execute_result",
          "data": {
            "text/plain": [
              "array([ 1.14285714, -0.57142857, -9.        ])"
            ]
          },
          "metadata": {},
          "execution_count": 88
        }
      ]
    },
    {
      "cell_type": "markdown",
      "source": [
        "### Multiplication"
      ],
      "metadata": {
        "id": "1f2Xqt8ql0BR"
      }
    },
    {
      "cell_type": "code",
      "source": [
        "pos1 = np.array([3,3,3])\n",
        "pos2 = np.array([1,5,1])\n",
        "pos3 = np.array([8,4,-9])\n",
        "pos4 = np.array([7,-7,1])\n",
        "#A = pos1 + pos2 + pos3 + pos4\n",
        "A = np.multiply(pos3, pos4)\n",
        "#A = pos3 / pos4\n",
        "A"
      ],
      "metadata": {
        "colab": {
          "base_uri": "https://localhost:8080/"
        },
        "id": "UCrVwSxdlvpK",
        "outputId": "6134c79f-27fe-484d-e8c4-d1c65588bbe7"
      },
      "execution_count": 89,
      "outputs": [
        {
          "output_type": "execute_result",
          "data": {
            "text/plain": [
              "array([ 56, -28,  -9])"
            ]
          },
          "metadata": {},
          "execution_count": 89
        }
      ]
    },
    {
      "cell_type": "markdown",
      "source": [
        "### Division"
      ],
      "metadata": {
        "id": "eOUcgV_ZlzDJ"
      }
    },
    {
      "cell_type": "code",
      "source": [
        "pos1 = np.array([3,3,3])\n",
        "pos2 = np.array([1,5,1])\n",
        "pos3 = np.array([8,4,-9])\n",
        "pos4 = np.array([7,-7,1])\n",
        "#A = pos1 + pos 2 + pos3 + pos4\n",
        "#A = np.multiply(pos2, pos4)\n",
        "A = pos2 / pos4 \n",
        "A"
      ],
      "metadata": {
        "colab": {
          "base_uri": "https://localhost:8080/"
        },
        "id": "2beO4_hTj47a",
        "outputId": "b2525f53-a534-408d-93b5-302324f550fe"
      },
      "execution_count": 90,
      "outputs": [
        {
          "output_type": "execute_result",
          "data": {
            "text/plain": [
              "array([ 0.14285714, -0.71428571,  1.        ])"
            ]
          },
          "metadata": {},
          "execution_count": 90
        }
      ]
    },
    {
      "cell_type": "markdown",
      "source": [
        "##### Let's try it out!"
      ],
      "metadata": {
        "id": "raHoaYCwj0Nk"
      }
    },
    {
      "cell_type": "code",
      "source": [
        "### Using own code\n",
        "pos1 = np.array([3,5])\n",
        "pos2 = np.array([-6,-9])"
      ],
      "metadata": {
        "id": "mMyn91QEkoUb"
      },
      "execution_count": 91,
      "outputs": []
    },
    {
      "cell_type": "code",
      "source": [
        "A = pos1 - pos2\n",
        "A"
      ],
      "metadata": {
        "colab": {
          "base_uri": "https://localhost:8080/"
        },
        "id": "TwRTBjvDk4lF",
        "outputId": "4763a81a-6bba-4826-c204-0c074f2619b2"
      },
      "execution_count": 92,
      "outputs": [
        {
          "output_type": "execute_result",
          "data": {
            "text/plain": [
              "array([ 9, 14])"
            ]
          },
          "metadata": {},
          "execution_count": 92
        }
      ]
    },
    {
      "cell_type": "code",
      "source": [
        "A = pos1 * pos2\n",
        "A"
      ],
      "metadata": {
        "colab": {
          "base_uri": "https://localhost:8080/"
        },
        "id": "dn85ikWhml81",
        "outputId": "4cc0a03a-3de0-4741-ab84-de80726d0481"
      },
      "execution_count": 93,
      "outputs": [
        {
          "output_type": "execute_result",
          "data": {
            "text/plain": [
              "array([-18, -45])"
            ]
          },
          "metadata": {},
          "execution_count": 93
        }
      ]
    },
    {
      "cell_type": "code",
      "source": [
        "A = pos1 / pos2\n",
        "A"
      ],
      "metadata": {
        "colab": {
          "base_uri": "https://localhost:8080/"
        },
        "id": "xi_24cSampWD",
        "outputId": "e6b9b988-9f3e-4165-f89a-493f450d2400"
      },
      "execution_count": 94,
      "outputs": [
        {
          "output_type": "execute_result",
          "data": {
            "text/plain": [
              "array([-0.5       , -0.55555556])"
            ]
          },
          "metadata": {},
          "execution_count": 94
        }
      ]
    },
    {
      "cell_type": "markdown",
      "source": [
        "### Scaling"
      ],
      "metadata": {
        "id": "qECkLRHkm3b_"
      }
    },
    {
      "cell_type": "markdown",
      "source": [
        "Scaling or scalar multiplication takes a scalar value and performs multiplication with a vector. We will use the given example below: "
      ],
      "metadata": {
        "id": "axHjm4cwm9yV"
      }
    },
    {
      "cell_type": "markdown",
      "source": [
        "$$S = 69 \\cdot A$$"
      ],
      "metadata": {
        "id": "TzG13CngnCI8"
      }
    },
    {
      "cell_type": "markdown",
      "source": [
        "Here is how we'll do it in NumPy:"
      ],
      "metadata": {
        "id": "GKWWXIoUnGlU"
      }
    },
    {
      "cell_type": "code",
      "source": [
        "#S = 69 * A\n",
        "S = np.multiply(5,A)\n",
        "S"
      ],
      "metadata": {
        "colab": {
          "base_uri": "https://localhost:8080/"
        },
        "id": "0WgYV8cqnNS3",
        "outputId": "a8a6a8c3-595a-4273-c6d2-9df90444fb72"
      },
      "execution_count": 95,
      "outputs": [
        {
          "output_type": "execute_result",
          "data": {
            "text/plain": [
              "array([-2.5       , -2.77777778])"
            ]
          },
          "metadata": {},
          "execution_count": 95
        }
      ]
    },
    {
      "cell_type": "markdown",
      "source": [
        "Try to implement scaling with two vectors."
      ],
      "metadata": {
        "id": "r_vI_xtonU-_"
      }
    },
    {
      "cell_type": "code",
      "source": [
        "S = np.multiply(3,A)\n",
        "S"
      ],
      "metadata": {
        "colab": {
          "base_uri": "https://localhost:8080/"
        },
        "id": "fS_13KmAnVtf",
        "outputId": "0c41bdc1-b0d8-42f4-f284-e50f1780831f"
      },
      "execution_count": 96,
      "outputs": [
        {
          "output_type": "execute_result",
          "data": {
            "text/plain": [
              "array([-1.5       , -1.66666667])"
            ]
          },
          "metadata": {},
          "execution_count": 96
        }
      ]
    },
    {
      "cell_type": "code",
      "source": [
        "S = np.multiply(7,L)\n",
        "S"
      ],
      "metadata": {
        "colab": {
          "base_uri": "https://localhost:8080/"
        },
        "id": "tFDGb6v6nibz",
        "outputId": "875d1adb-6bb9-4218-aa75-90806faae55c"
      },
      "execution_count": 97,
      "outputs": [
        {
          "output_type": "execute_result",
          "data": {
            "text/plain": [
              "array([[ 42],\n",
              "       [-28],\n",
              "       [ 42]])"
            ]
          },
          "metadata": {},
          "execution_count": 97
        }
      ]
    },
    {
      "cell_type": "markdown",
      "source": [
        "### MatPlotLib"
      ],
      "metadata": {
        "id": "PnTCv4kIntAE"
      }
    },
    {
      "cell_type": "markdown",
      "source": [
        "MatPlotLib or MATLab Plotting library is Python's take on MATLabs plotting feature. MatPlotLib can be used vastly from graping values to visualizing several dimensions of data."
      ],
      "metadata": {
        "id": "H7BNOLdmnueT"
      }
    },
    {
      "cell_type": "markdown",
      "source": [
        "#### Visualizing Data"
      ],
      "metadata": {
        "id": "vgUhcfAcnxSR"
      }
    },
    {
      "cell_type": "markdown",
      "source": [
        "It's not enough just solving these vectors so might need to visualize them. So we'll use MatPlotLib for that. We'll need to import it first."
      ],
      "metadata": {
        "id": "h__0nsmtnypp"
      }
    },
    {
      "cell_type": "code",
      "source": [
        "import matplotlib.pyplot as plt\n",
        "import matplotlib\n",
        "%matplotlib inline"
      ],
      "metadata": {
        "id": "49RgCrzyn0O4"
      },
      "execution_count": 98,
      "outputs": []
    },
    {
      "cell_type": "markdown",
      "source": [
        "##### Visuals of Two Vector"
      ],
      "metadata": {
        "id": "t9LPrVdWua4V"
      }
    },
    {
      "cell_type": "code",
      "source": [
        "E = [1, -8]\n",
        "C = [3, -8]\n",
        "plt.scatter(A[0], A[1], label='A', c='pink')\n",
        "plt.scatter(B[0], B[1], label='B', c='indigo')\n",
        "plt.grid()\n",
        "plt.legend()\n",
        "plt.show()"
      ],
      "metadata": {
        "colab": {
          "base_uri": "https://localhost:8080/",
          "height": 265
        },
        "id": "6QwJUHN3n1qH",
        "outputId": "3a0d0cf9-4623-4fb2-d1cb-257e72bf66f7"
      },
      "execution_count": 99,
      "outputs": [
        {
          "output_type": "display_data",
          "data": {
            "text/plain": [
              "<Figure size 432x288 with 1 Axes>"
            ],
            "image/png": "[encoded data removed]"
          },
          "metadata": {
            "needs_background": "light"
          }
        }
      ]
    },
    {
      "cell_type": "markdown",
      "source": [
        "##### Triangular Method Vector"
      ],
      "metadata": {
        "id": "sFXj07bEufrf"
      }
    },
    {
      "cell_type": "code",
      "source": [
        "Z = np.array([4, -5])\n",
        "X = np.array([-3, 6])\n",
        "plt.title(\"Resultant Vector\\nMagnitude:{}\" .format(Magnitude))\n",
        "plt.xlim(-5, 5)\n",
        "plt.ylim(-5, 5)\n",
        "plt.quiver(0, 0, Z[0], Z[1], angles='xy', scale_units='xy', scale=1, color='red')\n",
        "plt.quiver(Z[0], Z[1], X[0], X[1], angles='xy', scale_units='xy', scale=1, color='green')\n",
        "R = Z + X\n",
        "plt.quiver(0, 0, R[0], R[1], angles='xy', scale_units='xy', scale=1, color='black')\n",
        "plt.grid()\n",
        "plt.show()\n",
        "print(R)\n",
        "Magnitude = np.sqrt(np.sum(R**2))\n",
        "print(Magnitude)\n",
        "Slope = R[1]/R[0]\n",
        "print(Slope)\n",
        "Angle = (np.arctan(Slope))*(180/np.pi)\n",
        "print(Angle)"
      ],
      "metadata": {
        "colab": {
          "base_uri": "https://localhost:8080/",
          "height": 368
        },
        "id": "tj5nYfo6orJZ",
        "outputId": "ef9889b7-1b12-44f5-d327-534ab964cf45"
      },
      "execution_count": 108,
      "outputs": [
        {
          "output_type": "display_data",
          "data": {
            "text/plain": [
              "<Figure size 432x288 with 1 Axes>"
            ],
            "image/png": "[encoded data removed]"
          },
          "metadata": {
            "needs_background": "light"
          }
        },
        {
          "output_type": "stream",
          "name": "stdout",
          "text": [
            "[1 1]\n",
            "1.4142135623730951\n",
            "1.0\n",
            "45.0\n"
          ]
        }
      ]
    },
    {
      "cell_type": "markdown",
      "source": [
        "##### Triangular Method Vector with only the Quiver"
      ],
      "metadata": {
        "id": "nVDKWlmqunW4"
      }
    },
    {
      "cell_type": "code",
      "source": [
        "n = Z.shape[0]\n",
        "plt.xlim(-10, 10)\n",
        "plt.ylim(-10, 10)\n",
        "plt.quiver(0,0, Z[0], Z[1], angles='xy', scale_units='xy',scale=1)\n",
        "plt.quiver(Z[0],Z[1], X[0], X[1], angles='xy', scale_units='xy',scale=1)\n",
        "plt.quiver(0,0, R[0], R[1], angles='xy', scale_units='xy',scale=1)\n",
        "plt.show()"
      ],
      "metadata": {
        "colab": {
          "base_uri": "https://localhost:8080/",
          "height": 269
        },
        "id": "apV5aCZDqpPa",
        "outputId": "e1637e58-1826-4b19-d2fb-b6281b2efd78"
      },
      "execution_count": 111,
      "outputs": [
        {
          "output_type": "display_data",
          "data": {
            "text/plain": [
              "<Figure size 432x288 with 1 Axes>"
            ],
            "image/png": "[encoded data removed]"
          },
          "metadata": {
            "needs_background": "light"
          }
        }
      ]
    },
    {
      "cell_type": "markdown",
      "source": [
        "Try plotting Three Vectors and show the Resultant Vector as \n",
        "a result.\n",
        "Use Head to Tail Method."
      ],
      "metadata": {
        "id": "Pu6FEUb8tHeB"
      }
    },
    {
      "cell_type": "code",
      "source": [
        "D = np.array([4,8])\n",
        "P = np.array([1,6])\n",
        "R = np.array([9,2])\n",
        "L = D + P + R\n",
        "print(R)\n",
        "Magnitude = np.sqrt(np.sum(R**2))\n",
        "print(Magnitude)\n",
        "plt.title(\"Resultant Vector\\nMagnitude:{}\" .format(Magnitude))\n",
        "plt.xlim(-10, 40)\n",
        "plt.ylim(-10, 40)\n",
        "plt.quiver(0, 0, D[0], D[1], angles='xy', scale_units='xy', scale=1, color='black')\n",
        "plt.quiver(D[0], D[1], P[0], P[1], angles='xy', scale_units='xy', scale=1, color='blue')\n",
        "plt.quiver(D[0], D[1], P[0], P[1], R[1], angles='xy', scale_units='xy', scale=1, color='green')\n",
        "plt.quiver(0, 0, L[0], L[1], angles='xy', scale_units='xy', scale=1, color='yellow')\n",
        "plt.grid()\n",
        "plt.show()\n",
        "Slope = L[1]/L[0]\n",
        "print(Slope)\n",
        "Angle = (np.arctan(Slope))*(180/np.pi)\n",
        "print(Angle)"
      ],
      "metadata": {
        "colab": {
          "base_uri": "https://localhost:8080/",
          "height": 368
        },
        "id": "czd8AGJ2q0z_",
        "outputId": "6df8b8f4-0313-43ba-f000-73fd1d9e3a0e"
      },
      "execution_count": 112,
      "outputs": [
        {
          "output_type": "stream",
          "name": "stdout",
          "text": [
            "[9 2]\n",
            "9.219544457292887\n"
          ]
        },
        {
          "output_type": "display_data",
          "data": {
            "text/plain": [
              "<Figure size 432x288 with 1 Axes>"
            ],
            "image/png": "[encoded data removed]"
          },
          "metadata": {
            "needs_background": "light"
          }
        },
        {
          "output_type": "stream",
          "name": "stdout",
          "text": [
            "1.1428571428571428\n",
            "48.81407483429035\n"
          ]
        }
      ]
    },
    {
      "cell_type": "markdown",
      "source": [
        "### Conclusion\n",
        "\n",
        "Students were able to understand the basics of displaying, describing and doing the matrix operations on vectors. They were also able to plot vectors using NumPy and MatPlotLib. Furthermore, they performed the visualization of a vector and its resultant in the given task.\n"
      ],
      "metadata": {
        "id": "kLcgcEYWtNAJ"
      }
    }
  ]
}