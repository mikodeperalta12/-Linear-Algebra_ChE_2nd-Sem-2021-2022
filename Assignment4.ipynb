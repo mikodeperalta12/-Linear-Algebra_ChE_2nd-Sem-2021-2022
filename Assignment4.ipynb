{
  "nbformat": 4,
  "nbformat_minor": 0,
  "metadata": {
    "colab": {
      "name": "Assignment4.ipynb",
      "provenance": [],
      "collapsed_sections": [],
      "authorship_tag": "ABX9TyOfWdl5DjL7t+Fk4+8gPBGH",
      "include_colab_link": true
    },
    "kernelspec": {
      "name": "python3",
      "display_name": "Python 3"
    },
    "language_info": {
      "name": "python"
    }
  },
  "cells": [
    {
      "cell_type": "markdown",
      "metadata": {
        "id": "view-in-github",
        "colab_type": "text"
      },
      "source": [
        "<a href=\"https://colab.research.google.com/github/mikodeperalta12/-Linear-Algebra_ChE_2nd-Sem-2021-2022/blob/main/Assignment4.ipynb\" target=\"_parent\"><img src=\"https://colab.research.google.com/assets/colab-badge.svg\" alt=\"Open In Colab\"/></a>"
      ]
    },
    {
      "cell_type": "markdown",
      "source": [
        "# Linear Algebra for ECE\n",
        "## Laboratory 6 : Matrix Operations"
      ],
      "metadata": {
        "id": "vehJWvHAM_U0"
      }
    },
    {
      "cell_type": "markdown",
      "source": [
        "#Discussion"
      ],
      "metadata": {
        "id": "TMcO0sySMl06"
      }
    },
    {
      "cell_type": "markdown",
      "source": [
        "Now that you have a fundamental knowledge about representing and operating with vectors as well as the fundamentals of matrices, we'll try to the same operations with matrices and even more. = paraphrase = "
      ],
      "metadata": {
        "id": "ZyTWGnR_NEBu"
      }
    },
    {
      "cell_type": "markdown",
      "source": [
        "### Objectives\n",
        "At the end of this activity you will be able to:\n",
        "1. Be familiar with the fundamental matrix operations.\n",
        "2. Apply the operations to solve intemrediate equations.\n",
        "3. Apply matrix algebra in engineering solutions."
      ],
      "metadata": {
        "id": "jZXLAF6RNHpB"
      }
    },
    {
      "cell_type": "code",
      "source": [
        "import numpy as np\n",
        "import matplotlib.pyplot as plt\n",
        "%matplotlib inline"
      ],
      "metadata": {
        "id": "jWypSoprWIqk"
      },
      "execution_count": null,
      "outputs": []
    },
    {
      "cell_type": "markdown",
      "source": [
        "# Transposition"
      ],
      "metadata": {
        "id": "_nzrRp7tMqzp"
      }
    },
    {
      "cell_type": "markdown",
      "source": [
        "One of the fundamental operations in matrix algebra is Transposition. The transpose of a matrix is done by flipping the values of its elements over its diagonals. With this, the rows and columns from the original matrix will be switched. So for a matrix $A$ its transpose is denoted as $A^T$. So for example: =paraphrase= "
      ],
      "metadata": {
        "id": "RCs9Eb7QNKD-"
      }
    },
    {
      "cell_type": "markdown",
      "source": [
        ":$$\n",
        "A=\\begin{bmatrix} 1 & 2 & 3 & 4 \\\\1 & -2 & -3 & 4 \\\\ 5 & 6 & 7 & 8 \\\\ 9 & 0 & 8 & -3\\end{bmatrix} \\\\\n",
        "$$"
      ],
      "metadata": {
        "id": "fIf4ONT7gpiz"
      }
    },
    {
      "cell_type": "markdown",
      "source": [
        "$$ A^T = \\begin{bmatrix} 1 & 1 & 5 & 9 \\\\2 & -2 & -3 & 4 \\\\ 3 & -3 & 7 & 8 \\\\ 4 & 4 & 8 & -3\\end{bmatrix}$$"
      ],
      "metadata": {
        "id": "DVhGnvjtNO58"
      }
    },
    {
      "cell_type": "markdown",
      "source": [
        "This can now be achieved programmatically by using `np.transpose()` or using the `T` method."
      ],
      "metadata": {
        "id": "-Clj1zHpNZQf"
      }
    },
    {
      "cell_type": "code",
      "execution_count": null,
      "metadata": {
        "id": "K88MEN-IS3Q2"
      },
      "outputs": [],
      "source": [
        "A = np. array([\n",
        "    [1, 2, 5],\n",
        "    [5, -1, 0],\n",
        "    [0, -3, 3]\n",
        "])"
      ]
    },
    {
      "cell_type": "code",
      "source": [
        "AT1 = np. transpose(A)\n",
        "AT1"
      ],
      "metadata": {
        "colab": {
          "base_uri": "https://localhost:8080/"
        },
        "id": "1V2T19ynWCGp",
        "outputId": "6a5bf8cc-375d-4890-a800-72c5dd6e90d6"
      },
      "execution_count": null,
      "outputs": [
        {
          "output_type": "execute_result",
          "data": {
            "text/plain": [
              "array([[ 1,  5,  0],\n",
              "       [ 2, -1, -3],\n",
              "       [ 5,  0,  3]])"
            ]
          },
          "metadata": {},
          "execution_count": 5
        }
      ]
    },
    {
      "cell_type": "code",
      "source": [
        "AT2 = A.T\n",
        "AT2"
      ],
      "metadata": {
        "colab": {
          "base_uri": "https://localhost:8080/"
        },
        "id": "FnCKWeuOWMAL",
        "outputId": "88ccd006-96e7-4f56-9289-8f8bb8ad3cfa"
      },
      "execution_count": null,
      "outputs": [
        {
          "output_type": "execute_result",
          "data": {
            "text/plain": [
              "array([[ 1,  5,  0],\n",
              "       [ 2, -1, -3],\n",
              "       [ 5,  0,  3]])"
            ]
          },
          "metadata": {},
          "execution_count": 6
        }
      ]
    },
    {
      "cell_type": "code",
      "source": [
        "np. array_equiv(AT1, AT2)"
      ],
      "metadata": {
        "colab": {
          "base_uri": "https://localhost:8080/"
        },
        "id": "8le9LQGVWPmJ",
        "outputId": "320034a4-df4e-4840-8446-088b93925c0e"
      },
      "execution_count": null,
      "outputs": [
        {
          "output_type": "execute_result",
          "data": {
            "text/plain": [
              "True"
            ]
          },
          "metadata": {},
          "execution_count": 7
        }
      ]
    },
    {
      "cell_type": "code",
      "source": [
        "B = np.array([\n",
        "    [7, 3, 2, 1],\n",
        "    [5, 6, 3, 1],\n",
        "])\n",
        "B. shape"
      ],
      "metadata": {
        "colab": {
          "base_uri": "https://localhost:8080/"
        },
        "id": "-E3Om3zjYHqc",
        "outputId": "26134412-42ab-4ed0-c0b1-00c0e842004f"
      },
      "execution_count": null,
      "outputs": [
        {
          "output_type": "execute_result",
          "data": {
            "text/plain": [
              "(2, 4)"
            ]
          },
          "metadata": {},
          "execution_count": 8
        }
      ]
    },
    {
      "cell_type": "code",
      "source": [
        "np.transpose(B).shape"
      ],
      "metadata": {
        "colab": {
          "base_uri": "https://localhost:8080/"
        },
        "id": "nox-hcgIYbyi",
        "outputId": "d7eca92d-fbed-49fc-dd3a-346809ce33f5"
      },
      "execution_count": null,
      "outputs": [
        {
          "output_type": "execute_result",
          "data": {
            "text/plain": [
              "(4, 2)"
            ]
          },
          "metadata": {},
          "execution_count": 9
        }
      ]
    },
    {
      "cell_type": "code",
      "source": [
        "B. T. shape"
      ],
      "metadata": {
        "colab": {
          "base_uri": "https://localhost:8080/"
        },
        "id": "8M6gaoD-YgM3",
        "outputId": "946e6c34-84dc-4243-f974-d3157816be68"
      },
      "execution_count": null,
      "outputs": [
        {
          "output_type": "execute_result",
          "data": {
            "text/plain": [
              "(4, 2)"
            ]
          },
          "metadata": {},
          "execution_count": 10
        }
      ]
    },
    {
      "cell_type": "code",
      "source": [
        ""
      ],
      "metadata": {
        "id": "oUCExJbmN1k3"
      },
      "execution_count": null,
      "outputs": []
    },
    {
      "cell_type": "markdown",
      "source": [
        "#### Try to create your own matrix (you can try non-squares) to test transposition."
      ],
      "metadata": {
        "id": "AUyQleULNzOn"
      }
    },
    {
      "cell_type": "code",
      "source": [
        "M = np.array([\n",
        "    [3,4],\n",
        "    [4,2],\n",
        "    [8,1],\n",
        "    [5,3],\n",
        "])"
      ],
      "metadata": {
        "id": "HxZ-z3TeN50O"
      },
      "execution_count": null,
      "outputs": []
    },
    {
      "cell_type": "code",
      "source": [
        "MT = np.transpose(M)\n",
        "MT"
      ],
      "metadata": {
        "colab": {
          "base_uri": "https://localhost:8080/"
        },
        "id": "3cn7xUIzOG_z",
        "outputId": "7140ad69-6800-4ee7-a3c1-78bd54a69c0e"
      },
      "execution_count": null,
      "outputs": [
        {
          "output_type": "execute_result",
          "data": {
            "text/plain": [
              "array([[3, 4, 8, 5],\n",
              "       [4, 2, 1, 3]])"
            ]
          },
          "metadata": {},
          "execution_count": 5
        }
      ]
    },
    {
      "cell_type": "markdown",
      "source": [
        "## Dot Product / Inner Product"
      ],
      "metadata": {
        "id": "V6H3cvBoOPHp"
      }
    },
    {
      "cell_type": "markdown",
      "source": [
        "If you recall the dot product from laboratory activity before, we will try to implement the same operation with matrices. In matrix dot product we are going to get the sum of products of the vectors by row-column pairs. So if we have two matrices $X$ and $Y$:\n",
        "\n",
        "$$X = \\begin{bmatrix}x_{(0,0)}&x_{(0,1)}\\\\ x_{(1,0)}&x_{(1,1)}\\end{bmatrix}, Y = \\begin{bmatrix}y_{(0,0)}&y_{(0,1)}\\\\ y_{(1,0)}&y_{(1,1)}\\end{bmatrix}$$\n",
        "\n",
        "The dot product will then be computed as:\n",
        "$$X \\cdot Y= \\begin{bmatrix} x_{(0,0)}*y_{(0,0)} + x_{(0,1)}*y_{(1,0)} & x_{(0,0)}*y_{(0,1)} + x_{(0,1)}*y_{(1,1)} \\\\  x_{(1,0)}*y_{(0,0)} + x_{(1,1)}*y_{(1,0)} & x_{(1,0)}*y_{(0,1)} + x_{(1,1)}*y_{(1,1)}\n",
        "\\end{bmatrix}$$\n",
        "\n",
        "So if we assign values to $X$ and $Y$:\n",
        "$$X = \\begin{bmatrix}3&4&5\\\\ 6&2&8 \\\\ 1&7&4\\end{bmatrix}, Y = \\begin{bmatrix}-5&7&3\\\\ 6&8&4 \\\\ 4&6&2\\end{bmatrix}$$"
      ],
      "metadata": {
        "id": "NgIRT-xfORr8"
      }
    },
    {
      "cell_type": "markdown",
      "source": [
        "$$X \\cdot Y= \\begin{bmatrix} 3*-5 + 4*6 + 5*4 & 3*7+ 4*8 + 5*6 & 3*3 + 4*4 + 5*2\\\\  6*-5 + 2*6 + 8*4 & 6*7 + 2*8 + 8*6 & 6*3 + 2*4 + 8*2 \\\\ 1*-5 + 7*6 + 4*4 & 1*7 + 7*8 + 4*6 & 1*3 + 7*4 + 4*2 \\end{bmatrix} = \\begin{bmatrix} 29 & 83 & 35 \\\\ 14 & 106 & 42 \\\\ 53 & 87 & 39 \\end{bmatrix}$$\n",
        "This could be achieved programmatically using `np.dot()`, `np.matmul()` or the `@` operator."
      ],
      "metadata": {
        "id": "-vQhXvdUOUE2"
      }
    },
    {
      "cell_type": "code",
      "source": [
        "M = np.array([\n",
        "    [2, 4],\n",
        "    [0, 8]\n",
        "])\n",
        "J = np.array([\n",
        "    [-2, 0],\n",
        "    [3, 6]\n",
        "])"
      ],
      "metadata": {
        "id": "jVIELlWlZrzu"
      },
      "execution_count": null,
      "outputs": []
    },
    {
      "cell_type": "code",
      "source": [
        "np.array_equiv(M, J)"
      ],
      "metadata": {
        "colab": {
          "base_uri": "https://localhost:8080/"
        },
        "id": "VSL3y0kaaGuA",
        "outputId": "b6fa05b1-8c15-4015-c237-9899048bb6b0"
      },
      "execution_count": null,
      "outputs": [
        {
          "output_type": "execute_result",
          "data": {
            "text/plain": [
              "False"
            ]
          },
          "metadata": {},
          "execution_count": 12
        }
      ]
    },
    {
      "cell_type": "code",
      "source": [
        "np.dot(M, J)"
      ],
      "metadata": {
        "colab": {
          "base_uri": "https://localhost:8080/"
        },
        "id": "ukZ1HNKcaKo9",
        "outputId": "8fbf2370-ae0c-4976-8818-4815cff72689"
      },
      "execution_count": null,
      "outputs": [
        {
          "output_type": "execute_result",
          "data": {
            "text/plain": [
              "array([[ 8, 24],\n",
              "       [24, 48]])"
            ]
          },
          "metadata": {},
          "execution_count": 13
        }
      ]
    },
    {
      "cell_type": "code",
      "source": [
        "M.dot(J)"
      ],
      "metadata": {
        "colab": {
          "base_uri": "https://localhost:8080/"
        },
        "id": "3CbfuFTAaNz9",
        "outputId": "264f4893-4770-416e-c633-955117b7b10b"
      },
      "execution_count": null,
      "outputs": [
        {
          "output_type": "execute_result",
          "data": {
            "text/plain": [
              "array([[ 8, 24],\n",
              "       [24, 48]])"
            ]
          },
          "metadata": {},
          "execution_count": 14
        }
      ]
    },
    {
      "cell_type": "code",
      "source": [
        "M @ J"
      ],
      "metadata": {
        "colab": {
          "base_uri": "https://localhost:8080/"
        },
        "id": "FnL1okJ9aTOl",
        "outputId": "575b0ee2-874f-4d0f-c701-954cc3721c03"
      },
      "execution_count": null,
      "outputs": [
        {
          "output_type": "execute_result",
          "data": {
            "text/plain": [
              "array([[ 8, 24],\n",
              "       [24, 48]])"
            ]
          },
          "metadata": {},
          "execution_count": 17
        }
      ]
    },
    {
      "cell_type": "code",
      "source": [
        "np.matmul(M,J)"
      ],
      "metadata": {
        "colab": {
          "base_uri": "https://localhost:8080/"
        },
        "id": "mhKWor35PAPC",
        "outputId": "c44b030a-d1ce-449c-a0e8-c87b06e58462"
      },
      "execution_count": null,
      "outputs": [
        {
          "output_type": "execute_result",
          "data": {
            "text/plain": [
              "array([[ 8, 24],\n",
              "       [24, 48]])"
            ]
          },
          "metadata": {},
          "execution_count": 8
        }
      ]
    },
    {
      "cell_type": "markdown",
      "source": [
        "In matrix dot products there are additional rules compared with vector dot products. Since vector dot products were just in one dimension there are less restrictions. Since now we are dealing with Rank 2 vectors we need to consider some rules:\n",
        "\n",
        "### Rule 1: The inner dimensions of the two matrices in question must be the same. \n",
        "\n",
        "So given a matrix $E$ with a shape of $(e,x)$ where $e$ and $x$ are any integers. If we want to do a dot product between $E$ and another matrix $X$, then matrix $X$ should have a shape of $(x,o)$ where $x$ and $o$ are any integers. So for given the following matrices:\n",
        "\n",
        ":$$\n",
        "E=\\begin{bmatrix} 9 & 7 & 1 \\\\ 2 & 8 & 4 \\\\ 5 & 1 & 3 \\\\ 3 & 6 & 9\\end{bmatrix} ,\\\\\n",
        "X=\\begin{bmatrix} 5 & 2 & 9 & \\\\ -5 & 2 & 1 \\\\ 2 & 1 & 4 \\\\ -2 & 4 & 5\\end{bmatrix} ,\\\\\n",
        "O=\\begin{bmatrix} 2 & 4 & 7 & 9 \\\\ 5 & 9 & 8 & 3 \\\\ 8 & 9 & 1 & 4\\end{bmatrix} \n",
        "$$\n",
        "\n",
        "So in this case $E$ has a shape of $(4,3)$, $X$ has a shape of $(4,3)$ and $O$ has a shape of $(3,4)$. So the only matrix pairs that is eligible to perform dot product is matrices $E \\cdot O$, or $X \\cdot CO$.  "
      ],
      "metadata": {
        "id": "hJsPnzLWPH42"
      }
    },
    {
      "cell_type": "code",
      "source": [
        "M = np.array([\n",
        "    [0, 7],\n",
        "    [0, 5],\n",
        "    [0, 1],\n",
        "])\n",
        "I = np.array([\n",
        "    [0, 7],\n",
        "    [2, 3],\n",
        "    [1, 0]\n",
        "])\n",
        "K = np.array([\n",
        "    [0, 1, 1],\n",
        "    [1, 7, 7]\n",
        "])"
      ],
      "metadata": {
        "id": "AIPiPALKceRd"
      },
      "execution_count": null,
      "outputs": []
    },
    {
      "cell_type": "code",
      "source": [
        "M @ K"
      ],
      "metadata": {
        "colab": {
          "base_uri": "https://localhost:8080/"
        },
        "id": "nVJtjtb8dBVD",
        "outputId": "d9571d10-8cce-4246-b87f-ec4e223f4ba1"
      },
      "execution_count": null,
      "outputs": [
        {
          "output_type": "execute_result",
          "data": {
            "text/plain": [
              "array([[ 7, 49, 49],\n",
              "       [ 5, 35, 35],\n",
              "       [ 1,  7,  7]])"
            ]
          },
          "metadata": {},
          "execution_count": 21
        }
      ]
    },
    {
      "cell_type": "code",
      "source": [
        "I @ K"
      ],
      "metadata": {
        "colab": {
          "base_uri": "https://localhost:8080/"
        },
        "id": "owYHX92cdD26",
        "outputId": "d677d7bb-dfde-4ab5-9fc1-c4c468031892"
      },
      "execution_count": null,
      "outputs": [
        {
          "output_type": "execute_result",
          "data": {
            "text/plain": [
              "array([[ 7, 49, 49],\n",
              "       [ 3, 23, 23],\n",
              "       [ 0,  1,  1]])"
            ]
          },
          "metadata": {},
          "execution_count": 22
        }
      ]
    },
    {
      "cell_type": "markdown",
      "source": [
        "If you would notice the shape of the dot product changed and its shape is not the same as any of the matrices we used. The shape of a dot product is actually derived from the shapes of the matrices used. So recall matrix $E$ with a shape of $(a,b)$ and matrix $X$ with a shape of $(b,c)$, $E \\cdot X$ should have a shape $(a,c)$."
      ],
      "metadata": {
        "id": "7PtBYoihPQm4"
      }
    },
    {
      "cell_type": "code",
      "source": [
        "M @I.T"
      ],
      "metadata": {
        "colab": {
          "base_uri": "https://localhost:8080/"
        },
        "id": "X0-l0REHdP2B",
        "outputId": "fcd14837-3a2e-46c9-c4e0-b63fd58acf29"
      },
      "execution_count": null,
      "outputs": [
        {
          "output_type": "execute_result",
          "data": {
            "text/plain": [
              "array([[49, 21,  0],\n",
              "       [35, 15,  0],\n",
              "       [ 7,  3,  0]])"
            ]
          },
          "metadata": {},
          "execution_count": 10
        }
      ]
    },
    {
      "cell_type": "code",
      "source": [
        "M = np.array([\n",
        "    [2,9,1,5]\n",
        "])\n",
        "J = np.array([\n",
        "    [9,1,3,-2]\n",
        "])\n",
        "print(M.shape)\n",
        "print(J.shape)"
      ],
      "metadata": {
        "colab": {
          "base_uri": "https://localhost:8080/"
        },
        "id": "3dAkaXAkPdxg",
        "outputId": "facdfcf0-823e-4c9e-8c7c-3b6b8eb9bd86"
      },
      "execution_count": null,
      "outputs": [
        {
          "output_type": "stream",
          "name": "stdout",
          "text": [
            "(1, 4)\n",
            "(1, 4)\n"
          ]
        }
      ]
    },
    {
      "cell_type": "code",
      "source": [
        "M.T @ J"
      ],
      "metadata": {
        "colab": {
          "base_uri": "https://localhost:8080/"
        },
        "id": "P-7HJ11-PrDc",
        "outputId": "84268dd5-dba6-41fb-d088-79fd10e23897"
      },
      "execution_count": null,
      "outputs": [
        {
          "output_type": "execute_result",
          "data": {
            "text/plain": [
              "array([[ 18,   2,   6,  -4],\n",
              "       [ 81,   9,  27, -18],\n",
              "       [  9,   1,   3,  -2],\n",
              "       [ 45,   5,  15, -10]])"
            ]
          },
          "metadata": {},
          "execution_count": 12
        }
      ]
    },
    {
      "cell_type": "markdown",
      "source": [
        "### Rule 2: Dot Product has special properties\n",
        "\n",
        "Dot products are prevalent in matrix algebra, this implies that it has several unique properties and it should be considered when formulation solutions:\n",
        " 1. $A \\cdot B \\neq B \\cdot A$\n",
        " 2. $A \\cdot (B \\cdot C) = (A \\cdot B) \\cdot C$\n",
        " 3. $A\\cdot(B+C) = A\\cdot B + A\\cdot C$\n",
        " 4. $(B+C)\\cdot A = B\\cdot A + C\\cdot A$\n",
        " 5. $A\\cdot I = A$\n",
        " 6. $A\\cdot \\emptyset = \\emptyset$ "
      ],
      "metadata": {
        "id": "RppP5VzFPvMn"
      }
    },
    {
      "cell_type": "markdown",
      "source": [
        "I'll be doing just one of the properties and I'll leave the rest to test your skills! =paraphrase="
      ],
      "metadata": {
        "id": "ygkvNSxTPy2T"
      }
    },
    {
      "cell_type": "code",
      "source": [
        "A = np.array([\n",
        "    [1,0,1],\n",
        "    [9,3,1],\n",
        "    [1,4,8]\n",
        "])\n",
        "L = np.array([\n",
        "    [4,5,1],\n",
        "    [1,3,9],\n",
        "    [7,4,7]\n",
        "])\n",
        "T = np.array([\n",
        "    [1,2,1],\n",
        "    [3,2,1],\n",
        "    [3,0,1]\n",
        "])"
      ],
      "metadata": {
        "id": "usQnhhwYP666"
      },
      "execution_count": null,
      "outputs": []
    },
    {
      "cell_type": "code",
      "source": [
        "A.dot(np.zeros(A.shape))"
      ],
      "metadata": {
        "colab": {
          "base_uri": "https://localhost:8080/"
        },
        "id": "pFYC-UsYQPJd",
        "outputId": "c128e4b4-f098-4f43-aaf0-17b33a10b06e"
      },
      "execution_count": null,
      "outputs": [
        {
          "output_type": "execute_result",
          "data": {
            "text/plain": [
              "array([[0., 0., 0.],\n",
              "       [0., 0., 0.],\n",
              "       [0., 0., 0.]])"
            ]
          },
          "metadata": {},
          "execution_count": 14
        }
      ]
    },
    {
      "cell_type": "code",
      "source": [
        "z_mat = np.zeros(A.shape)\n",
        "z_mat"
      ],
      "metadata": {
        "colab": {
          "base_uri": "https://localhost:8080/"
        },
        "id": "jAl1eyyyQSXq",
        "outputId": "66f9a7bf-1b24-4764-d7c7-fc0267de0a7e"
      },
      "execution_count": null,
      "outputs": [
        {
          "output_type": "execute_result",
          "data": {
            "text/plain": [
              "array([[0., 0., 0.],\n",
              "       [0., 0., 0.],\n",
              "       [0., 0., 0.]])"
            ]
          },
          "metadata": {},
          "execution_count": 18
        }
      ]
    },
    {
      "cell_type": "code",
      "source": [
        "a_dot_z = A.dot(np.zeros(A.shape))\n",
        "a_dot_z"
      ],
      "metadata": {
        "colab": {
          "base_uri": "https://localhost:8080/"
        },
        "id": "xTrzYY7DQTwt",
        "outputId": "e0dca5a0-963b-4d64-d274-960e98891cde"
      },
      "execution_count": null,
      "outputs": [
        {
          "output_type": "execute_result",
          "data": {
            "text/plain": [
              "array([[0., 0., 0.],\n",
              "       [0., 0., 0.],\n",
              "       [0., 0., 0.]])"
            ]
          },
          "metadata": {},
          "execution_count": 17
        }
      ]
    },
    {
      "cell_type": "code",
      "source": [
        "np.array_equal(a_dot_z,z_mat)"
      ],
      "metadata": {
        "colab": {
          "base_uri": "https://localhost:8080/"
        },
        "id": "nU5Nr1ADQU0S",
        "outputId": "4d742661-6f02-4ba2-e5a8-cfbe2db23f29"
      },
      "execution_count": null,
      "outputs": [
        {
          "output_type": "execute_result",
          "data": {
            "text/plain": [
              "True"
            ]
          },
          "metadata": {},
          "execution_count": 19
        }
      ]
    },
    {
      "cell_type": "code",
      "source": [
        "null_mat = np.empty(A.shape, dtype=float)\n",
        "null = np.array(null_mat,dtype=float)\n",
        "print(null)\n",
        "np.allclose(a_dot_z,null)"
      ],
      "metadata": {
        "colab": {
          "base_uri": "https://localhost:8080/"
        },
        "id": "vYjgP1eJQWFR",
        "outputId": "b529a3cf-8eac-4576-de4e-90a798967239"
      },
      "execution_count": null,
      "outputs": [
        {
          "output_type": "stream",
          "name": "stdout",
          "text": [
            "[[0. 0. 0.]\n",
            " [0. 0. 0.]\n",
            " [0. 0. 0.]]\n"
          ]
        },
        {
          "output_type": "execute_result",
          "data": {
            "text/plain": [
              "True"
            ]
          },
          "metadata": {},
          "execution_count": 20
        }
      ]
    },
    {
      "cell_type": "markdown",
      "source": [
        "A determinant is a scalar value derived from a square matrix. The determinant is a fundamental and important value used in matrix algebra. Although it will not be evident in this laboratory on how it can be used practically, but it will be reatly used in future lessons.\n",
        "\n",
        "The determinant of some matrix $A$ is denoted as $det(A)$ or $|A|$. So let's say $A$ is represented as:\n",
        "$$A = \\begin{bmatrix}a_{(0,0)}&a_{(0,1)}\\\\a_{(1,0)}&a_{(1,1)}\\end{bmatrix}$$\n",
        "We can compute for the determinant as:\n",
        "$$|A| = a_{(0,0)}*a_{(1,1)} - a_{(1,0)}*a_{(0,1)}$$\n",
        "So if we have $A$ as:\n",
        "$$A = \\begin{bmatrix}1&4\\\\0&3\\end{bmatrix}, |A| = 3$$\n",
        "\n",
        "But you might wonder how about square matrices beyond the shape $(2,2)$? We can approach this problem by using several methods such as co-factor expansion and the minors method. This can be taught in the lecture of the laboratory but we can achieve the strenuous computation of high-dimensional matrices programmatically using Python. We can achieve this by using `np.linalg.det()`."
      ],
      "metadata": {
        "id": "c3Wl4SwgQY6C"
      }
    },
    {
      "cell_type": "code",
      "source": [
        "T = np.array([\n",
        "    [1,9],\n",
        "    [8,2]\n",
        "])\n",
        "np.linalg.det(T)"
      ],
      "metadata": {
        "colab": {
          "base_uri": "https://localhost:8080/"
        },
        "id": "BSte73kTQdAV",
        "outputId": "b95d5765-6c7b-4baf-9597-672fee061ba5"
      },
      "execution_count": null,
      "outputs": [
        {
          "output_type": "execute_result",
          "data": {
            "text/plain": [
              "-69.99999999999996"
            ]
          },
          "metadata": {},
          "execution_count": 21
        }
      ]
    },
    {
      "cell_type": "code",
      "source": [
        "## Now other mathematics classes would require you to solve this by hand, \n",
        "## and that is great for practicing your memorization and coordination skills \n",
        "## but in this class we aim for simplicity and speed so we'll use programming\n",
        "## but it's completely fine if you want to try to solve this one by hand.\n",
        "H = np.array([\n",
        "    [9,1,8,2],\n",
        "    [7,3,6,4],\n",
        "    [5,5,4,6],\n",
        "    [3,7,2,8]\n",
        "])\n",
        "np.linalg.det(H)"
      ],
      "metadata": {
        "colab": {
          "base_uri": "https://localhost:8080/"
        },
        "id": "zfeOMwRVQkJB",
        "outputId": "e62ec383-f3d0-4fed-b9d1-759828f393da"
      },
      "execution_count": null,
      "outputs": [
        {
          "output_type": "execute_result",
          "data": {
            "text/plain": [
              "0.0"
            ]
          },
          "metadata": {},
          "execution_count": 25
        }
      ]
    },
    {
      "cell_type": "markdown",
      "source": [
        "The inverse of a matrix is another fundamental operation in matrix algebra. Determining the inverse of a matrix let us determine if its solvability and its characteristic as a system of linear equation — we'll expand on this in the nect module. Another use of the inverse matrix is solving the problem of divisibility between matrices. Although element-wise division exists but dividing the entire concept of matrices does not exists. Inverse matrices provides a related operation that could have the same concept of \"dividing\" matrices.\n",
        "\n",
        "Now to determine the inverse of a matrix we need to perform several steps. So let's say we have a matrix $M$:\n",
        "$$M = \\begin{bmatrix}1&7\\\\-3&5\\end{bmatrix}$$\n",
        "First, we need to get the determinant of $M$.\n",
        "$$|M| = (1)(5)-(-3)(7) = 26$$\n",
        "Next, we need to reform the matrix into the inverse form:\n",
        "$$M^{-1} = \\frac{1}{|M|} \\begin{bmatrix} m_{(1,1)} & -m_{(0,1)} \\\\ -m_{(1,0)} & m_{(0,0)}\\end{bmatrix}$$\n",
        "So that will be:\n",
        "$$M^{-1} = \\frac{1}{26} \\begin{bmatrix} 5 & -7 \\\\ 3 & 1\\end{bmatrix} = \\begin{bmatrix} \\frac{5}{26} & \\frac{-7}{26} \\\\ \\frac{3}{26} & \\frac{1}{26}\\end{bmatrix}$$\n",
        "For higher-dimension matrices you might need to use co-factors, minors, adjugates, and other reduction techinques. To solve this programmatially we can use `np.linalg.inv()`."
      ],
      "metadata": {
        "id": "_rkynXAYQ41h"
      }
    },
    {
      "cell_type": "code",
      "source": [
        "K = np.array([\n",
        "    [3,2],\n",
        "    [-9, 1]\n",
        "])\n",
        "\n",
        "np.array(K @ np.linalg.inv(K), dtype=int)"
      ],
      "metadata": {
        "colab": {
          "base_uri": "https://localhost:8080/"
        },
        "id": "93uigr0LQ7lu",
        "outputId": "4f89d167-56d4-4acf-be68-56c47c636026"
      },
      "execution_count": null,
      "outputs": [
        {
          "output_type": "execute_result",
          "data": {
            "text/plain": [
              "array([[1, 0],\n",
              "       [0, 1]])"
            ]
          },
          "metadata": {},
          "execution_count": 26
        }
      ]
    },
    {
      "cell_type": "code",
      "source": [
        "## And now let's test your skills in solving a matrix with high dimensions:\n",
        "O = np.array([\n",
        "    [1,3,5,7,1,81,3],\n",
        "    [9,32,0,27,13,12,9],\n",
        "    [7,3,13,40,50,61,8],\n",
        "    [2,3,4,5,6,7,8],\n",
        "    [2,16,48,27,61,13,12],\n",
        "    [13,-11,23,12,32,14,-90],\n",
        "    [13,41,31,61,32,94,-22],\n",
        "])\n",
        "O_inv = np.linalg.inv(O)\n",
        "np.array(O @ O_inv,dtype=int)"
      ],
      "metadata": {
        "colab": {
          "base_uri": "https://localhost:8080/"
        },
        "id": "ese3uUtYRBu0",
        "outputId": "38e37d43-1c57-482b-8aa5-d40a3bc3ddb8"
      },
      "execution_count": null,
      "outputs": [
        {
          "output_type": "execute_result",
          "data": {
            "text/plain": [
              "array([[1, 0, 0, 0, 0, 0, 0],\n",
              "       [0, 1, 0, 0, 0, 0, 0],\n",
              "       [0, 0, 1, 0, 0, 0, 0],\n",
              "       [0, 0, 0, 1, 0, 0, 0],\n",
              "       [0, 0, 0, 0, 0, 0, 0],\n",
              "       [0, 0, 0, 0, 0, 1, 0],\n",
              "       [0, 0, 0, 0, 0, 0, 0]])"
            ]
          },
          "metadata": {},
          "execution_count": 27
        }
      ]
    },
    {
      "cell_type": "markdown",
      "source": [
        "To validate the wether if the matric that you have solved is really the inverse, we follow this dot product property for a matrix $M$:\n",
        "$$M\\cdot M^{-1} = I$$"
      ],
      "metadata": {
        "id": "AqnbJXw4UHd6"
      }
    },
    {
      "cell_type": "code",
      "source": [
        "Okims = np.array([\n",
        "    [3.0, 2.1, 0.9],\n",
        "    [4.3, 1.7, 4.9],\n",
        "    [3.1, 9.3, 3.0]\n",
        "])\n",
        "Althea = np.array([\n",
        "    [0.1, 3.1, 8.1]\n",
        "])\n",
        "p_grade = Okims @ Althea.T\n",
        "p_grade\n"
      ],
      "metadata": {
        "colab": {
          "base_uri": "https://localhost:8080/"
        },
        "id": "sD0dyrvzUJVN",
        "outputId": "d3cd8792-00cf-408b-9041-8db3a588f9fd"
      },
      "execution_count": null,
      "outputs": [
        {
          "output_type": "execute_result",
          "data": {
            "text/plain": [
              "array([[14.1 ],\n",
              "       [45.39],\n",
              "       [53.44]])"
            ]
          },
          "metadata": {},
          "execution_count": 28
        }
      ]
    },
    {
      "cell_type": "markdown",
      "source": [
        "## Activity"
      ],
      "metadata": {
        "id": "2_C-wgUYVwDq"
      }
    },
    {
      "cell_type": "markdown",
      "source": [
        "Prove and implement the remaining 6 matrix multiplication properties. You may create your own matrices in which their shapes should not be lower than  (3,3) . In your methodology, create individual flowcharts for each property and discuss the property you would then present your proofs or validity of your implementation in the results section by comparing your result to present functions from NumPy."
      ],
      "metadata": {
        "id": "x4SEobAwVwvY"
      }
    },
    {
      "cell_type": "code",
      "source": [
        "M = np.array([\n",
        "    [0,7,0,-5],\n",
        "    [2,-0,0,1],\n",
        "    [0,7,2,3],\n",
        "    [2,0,-1,0]\n",
        "])\n",
        "I = np.array([\n",
        "    [1,3,2,-5],\n",
        "    [2,-1,0,8],\n",
        "    [4,4,5,2],\n",
        "    [8,2,3,-9]\n",
        "])\n",
        "K = np.array([\n",
        "    [2,8,-5,3], \n",
        "    [9,3,3,4],\n",
        "    [7,-4,1,8],\n",
        "    [-2,4,7,4]\n",
        "])"
      ],
      "metadata": {
        "id": "hpqa0AJ4bL52"
      },
      "execution_count": null,
      "outputs": []
    },
    {
      "cell_type": "markdown",
      "source": [
        "$A \\cdot B \\neq B \\cdot A$"
      ],
      "metadata": {
        "id": "a_VXRzbOeT3C"
      }
    },
    {
      "cell_type": "code",
      "source": [
        "I = (M@I) != (I@M)\n",
        "I"
      ],
      "metadata": {
        "colab": {
          "base_uri": "https://localhost:8080/"
        },
        "id": "HogujY1eeV78",
        "outputId": "d4aae315-d596-43d4-9fb8-24fb73200bd8"
      },
      "execution_count": null,
      "outputs": [
        {
          "output_type": "execute_result",
          "data": {
            "text/plain": [
              "array([[ True,  True,  True,  True],\n",
              "       [ True,  True,  True,  True],\n",
              "       [ True,  True,  True,  True],\n",
              "       [ True,  True,  True,  True]])"
            ]
          },
          "metadata": {},
          "execution_count": 31
        }
      ]
    },
    {
      "cell_type": "markdown",
      "source": [
        "$A \\cdot (B \\cdot C) = (A \\cdot B) \\cdot C$"
      ],
      "metadata": {
        "id": "YlMpo_9KeXvt"
      }
    },
    {
      "cell_type": "code",
      "source": [
        "O = M @ (I @ K)\n",
        "O"
      ],
      "metadata": {
        "colab": {
          "base_uri": "https://localhost:8080/"
        },
        "id": "8W7SbOq4eZHB",
        "outputId": "4319f3b8-2ea1-4476-c794-a95bba38dbbc"
      },
      "execution_count": null,
      "outputs": [
        {
          "output_type": "execute_result",
          "data": {
            "text/plain": [
              "array([[ 32,  22,  12,  38],\n",
              "       [ 48,  33,  18,  57],\n",
              "       [192, 132,  72, 228],\n",
              "       [ 16,  11,   6,  19]])"
            ]
          },
          "metadata": {},
          "execution_count": 32
        }
      ]
    },
    {
      "cell_type": "code",
      "source": [
        "A = (M @ I) @ K\n",
        "A"
      ],
      "metadata": {
        "colab": {
          "base_uri": "https://localhost:8080/"
        },
        "id": "slKeSzUteaP_",
        "outputId": "0b183f2f-82b8-408e-abde-f3eb2ba6cbd0"
      },
      "execution_count": null,
      "outputs": [
        {
          "output_type": "execute_result",
          "data": {
            "text/plain": [
              "array([[ 32,  22,  12,  38],\n",
              "       [ 48,  33,  18,  57],\n",
              "       [192, 132,  72, 228],\n",
              "       [ 16,  11,   6,  19]])"
            ]
          },
          "metadata": {},
          "execution_count": 34
        }
      ]
    },
    {
      "cell_type": "markdown",
      "source": [
        "$A\\cdot(B+C) = A\\cdot B + A\\cdot C$"
      ],
      "metadata": {
        "id": "_idjVmGVebOR"
      }
    },
    {
      "cell_type": "code",
      "source": [
        "L = M @ ( I + K)\n",
        "L"
      ],
      "metadata": {
        "colab": {
          "base_uri": "https://localhost:8080/"
        },
        "id": "8FCl_MAzecue",
        "outputId": "75b1864e-5852-49ca-e58f-a8333c88c97f"
      },
      "execution_count": null,
      "outputs": [
        {
          "output_type": "execute_result",
          "data": {
            "text/plain": [
              "array([[ 75,   3, -12,  10],\n",
              "       [  5,  23,   0,  13],\n",
              "       [ 83,  37,  56,  68],\n",
              "       [ -2,  21, -10,  -1]])"
            ]
          },
          "metadata": {},
          "execution_count": 35
        }
      ]
    },
    {
      "cell_type": "code",
      "source": [
        "T = (M@I) + (M@K)\n",
        "T"
      ],
      "metadata": {
        "colab": {
          "base_uri": "https://localhost:8080/"
        },
        "id": "zF4dXQGTed3x",
        "outputId": "cb45bb5d-c525-4eb0-b854-5ace928536b7"
      },
      "execution_count": null,
      "outputs": [
        {
          "output_type": "execute_result",
          "data": {
            "text/plain": [
              "array([[ 75,   3, -12,  10],\n",
              "       [  5,  23,   0,  13],\n",
              "       [ 83,  37,  56,  68],\n",
              "       [ -2,  21, -10,  -1]])"
            ]
          },
          "metadata": {},
          "execution_count": 36
        }
      ]
    },
    {
      "cell_type": "markdown",
      "source": [
        "$(B+C)\\cdot A = B\\cdot A + C\\cdot A$"
      ],
      "metadata": {
        "id": "D6m2Fbkgeeye"
      }
    },
    {
      "cell_type": "code",
      "source": [
        "H = (I+K) @ M\n",
        "H"
      ],
      "metadata": {
        "colab": {
          "base_uri": "https://localhost:8080/"
        },
        "id": "JphFhdFVel1V",
        "outputId": "71b408e1-4aa9-4181-990d-6c3a616aed14"
      },
      "execution_count": null,
      "outputs": [
        {
          "output_type": "execute_result",
          "data": {
            "text/plain": [
              "array([[ 26,  -7, -12, -18],\n",
              "       [ 18,  98,   3, -34],\n",
              "       [ 12,  70,  -5, -37],\n",
              "       [ 20,  49,  11,  34]])"
            ]
          },
          "metadata": {},
          "execution_count": 37
        }
      ]
    },
    {
      "cell_type": "code",
      "source": [
        "E = (I@M) + (K@M)\n",
        "E"
      ],
      "metadata": {
        "colab": {
          "base_uri": "https://localhost:8080/"
        },
        "id": "Lau49U9Mem1G",
        "outputId": "db40f17d-0b7a-4ea5-b476-5e1d27d66959"
      },
      "execution_count": null,
      "outputs": [
        {
          "output_type": "execute_result",
          "data": {
            "text/plain": [
              "array([[ 26,  -7, -12, -18],\n",
              "       [ 18,  98,   3, -34],\n",
              "       [ 12,  70,  -5, -37],\n",
              "       [ 20,  49,  11,  34]])"
            ]
          },
          "metadata": {},
          "execution_count": 38
        }
      ]
    },
    {
      "cell_type": "markdown",
      "source": [
        "$A\\cdot I = A$"
      ],
      "metadata": {
        "id": "i8QMPpUGeqDx"
      }
    },
    {
      "cell_type": "code",
      "source": [
        "np.eye(5)"
      ],
      "metadata": {
        "colab": {
          "base_uri": "https://localhost:8080/"
        },
        "id": "GT9jjJSMetBZ",
        "outputId": "59235797-c15b-445f-d1de-e274cff2cc29"
      },
      "execution_count": null,
      "outputs": [
        {
          "output_type": "execute_result",
          "data": {
            "text/plain": [
              "array([[1., 0., 0., 0., 0.],\n",
              "       [0., 1., 0., 0., 0.],\n",
              "       [0., 0., 1., 0., 0.],\n",
              "       [0., 0., 0., 1., 0.],\n",
              "       [0., 0., 0., 0., 1.]])"
            ]
          },
          "metadata": {},
          "execution_count": 41
        }
      ]
    },
    {
      "cell_type": "code",
      "source": [
        "K.dot(np.eye(4))"
      ],
      "metadata": {
        "colab": {
          "base_uri": "https://localhost:8080/"
        },
        "id": "5RfDpjszet-I",
        "outputId": "3391154c-3c43-4eb3-bc97-4c610260696b"
      },
      "execution_count": null,
      "outputs": [
        {
          "output_type": "execute_result",
          "data": {
            "text/plain": [
              "array([[ 2.,  8., -5.,  3.],\n",
              "       [ 9.,  3.,  3.,  4.],\n",
              "       [ 7., -4.,  1.,  8.],\n",
              "       [-2.,  4.,  7.,  4.]])"
            ]
          },
          "metadata": {},
          "execution_count": 45
        }
      ]
    },
    {
      "cell_type": "markdown",
      "source": [
        "$A\\cdot \\emptyset = \\emptyset$"
      ],
      "metadata": {
        "id": "_ed-p0NoevLD"
      }
    },
    {
      "cell_type": "code",
      "source": [
        "z_mat = np.zeros(K.shape)\n",
        "z_mat"
      ],
      "metadata": {
        "colab": {
          "base_uri": "https://localhost:8080/"
        },
        "id": "qidvF_R1ewus",
        "outputId": "c1ede724-6e44-4f80-e2f0-7c41b9f34c6c"
      },
      "execution_count": null,
      "outputs": [
        {
          "output_type": "execute_result",
          "data": {
            "text/plain": [
              "array([[0., 0., 0., 0.],\n",
              "       [0., 0., 0., 0.],\n",
              "       [0., 0., 0., 0.],\n",
              "       [0., 0., 0., 0.]])"
            ]
          },
          "metadata": {},
          "execution_count": 47
        }
      ]
    },
    {
      "cell_type": "markdown",
      "source": [
        "## Conclusion"
      ],
      "metadata": {
        "id": "nsFuBI_NeyiH"
      }
    },
    {
      "cell_type": "markdown",
      "source": [
        "For your conclusion synthesize the concept and application of the laboratory. Briefly discuss what you have learned and achieved in this activity. Also answer the question: \"how can matrix operations solve problems in healthcare?\"."
      ],
      "metadata": {
        "id": "wRlA_BR0e1Op"
      }
    }
  ]
}